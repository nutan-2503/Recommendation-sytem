{
 "cells": [
  {
   "cell_type": "markdown",
   "metadata": {},
   "source": [
    "### Import Libraries"
   ]
  },
  {
   "cell_type": "code",
   "execution_count": 3,
   "metadata": {},
   "outputs": [
    {
     "ename": "LookupError",
     "evalue": "\n**********************************************************************\n  Resource \u001b[93mstopwords\u001b[0m not found.\n  Please use the NLTK Downloader to obtain the resource:\n\n  \u001b[31m>>> import nltk\n  >>> nltk.download('stopwords')\n  \u001b[0m\n  For more information see: https://www.nltk.org/data.html\n\n  Attempted to load \u001b[93mcorpora/stopwords\u001b[0m\n\n  Searched in:\n    - 'C:\\\\Users\\\\Nutan Hotwani/nltk_data'\n    - 'C:\\\\Users\\\\Nutan Hotwani\\\\Anaconda3\\\\nltk_data'\n    - 'C:\\\\Users\\\\Nutan Hotwani\\\\Anaconda3\\\\share\\\\nltk_data'\n    - 'C:\\\\Users\\\\Nutan Hotwani\\\\Anaconda3\\\\lib\\\\nltk_data'\n    - 'C:\\\\Users\\\\Nutan Hotwani\\\\AppData\\\\Roaming\\\\nltk_data'\n    - 'C:\\\\nltk_data'\n    - 'D:\\\\nltk_data'\n    - 'E:\\\\nltk_data'\n**********************************************************************\n",
     "output_type": "error",
     "traceback": [
      "\u001b[1;31m---------------------------------------------------------------------------\u001b[0m",
      "\u001b[1;31mLookupError\u001b[0m                               Traceback (most recent call last)",
      "\u001b[1;32m~\\Anaconda3\\lib\\site-packages\\nltk\\corpus\\util.py\u001b[0m in \u001b[0;36m__load\u001b[1;34m(self)\u001b[0m\n\u001b[0;32m     85\u001b[0m                 \u001b[1;32mtry\u001b[0m\u001b[1;33m:\u001b[0m\u001b[1;33m\u001b[0m\u001b[1;33m\u001b[0m\u001b[0m\n\u001b[1;32m---> 86\u001b[1;33m                     \u001b[0mroot\u001b[0m \u001b[1;33m=\u001b[0m \u001b[0mnltk\u001b[0m\u001b[1;33m.\u001b[0m\u001b[0mdata\u001b[0m\u001b[1;33m.\u001b[0m\u001b[0mfind\u001b[0m\u001b[1;33m(\u001b[0m\u001b[1;34m'{}/{}'\u001b[0m\u001b[1;33m.\u001b[0m\u001b[0mformat\u001b[0m\u001b[1;33m(\u001b[0m\u001b[0mself\u001b[0m\u001b[1;33m.\u001b[0m\u001b[0msubdir\u001b[0m\u001b[1;33m,\u001b[0m \u001b[0mzip_name\u001b[0m\u001b[1;33m)\u001b[0m\u001b[1;33m)\u001b[0m\u001b[1;33m\u001b[0m\u001b[1;33m\u001b[0m\u001b[0m\n\u001b[0m\u001b[0;32m     87\u001b[0m                 \u001b[1;32mexcept\u001b[0m \u001b[0mLookupError\u001b[0m\u001b[1;33m:\u001b[0m\u001b[1;33m\u001b[0m\u001b[1;33m\u001b[0m\u001b[0m\n",
      "\u001b[1;32m~\\Anaconda3\\lib\\site-packages\\nltk\\data.py\u001b[0m in \u001b[0;36mfind\u001b[1;34m(resource_name, paths)\u001b[0m\n\u001b[0;32m    700\u001b[0m     \u001b[0mresource_not_found\u001b[0m \u001b[1;33m=\u001b[0m \u001b[1;34m'\\n%s\\n%s\\n%s\\n'\u001b[0m \u001b[1;33m%\u001b[0m \u001b[1;33m(\u001b[0m\u001b[0msep\u001b[0m\u001b[1;33m,\u001b[0m \u001b[0mmsg\u001b[0m\u001b[1;33m,\u001b[0m \u001b[0msep\u001b[0m\u001b[1;33m)\u001b[0m\u001b[1;33m\u001b[0m\u001b[1;33m\u001b[0m\u001b[0m\n\u001b[1;32m--> 701\u001b[1;33m     \u001b[1;32mraise\u001b[0m \u001b[0mLookupError\u001b[0m\u001b[1;33m(\u001b[0m\u001b[0mresource_not_found\u001b[0m\u001b[1;33m)\u001b[0m\u001b[1;33m\u001b[0m\u001b[1;33m\u001b[0m\u001b[0m\n\u001b[0m\u001b[0;32m    702\u001b[0m \u001b[1;33m\u001b[0m\u001b[0m\n",
      "\u001b[1;31mLookupError\u001b[0m: \n**********************************************************************\n  Resource \u001b[93mstopwords\u001b[0m not found.\n  Please use the NLTK Downloader to obtain the resource:\n\n  \u001b[31m>>> import nltk\n  >>> nltk.download('stopwords')\n  \u001b[0m\n  For more information see: https://www.nltk.org/data.html\n\n  Attempted to load \u001b[93mcorpora/stopwords.zip/stopwords/\u001b[0m\n\n  Searched in:\n    - 'C:\\\\Users\\\\Nutan Hotwani/nltk_data'\n    - 'C:\\\\Users\\\\Nutan Hotwani\\\\Anaconda3\\\\nltk_data'\n    - 'C:\\\\Users\\\\Nutan Hotwani\\\\Anaconda3\\\\share\\\\nltk_data'\n    - 'C:\\\\Users\\\\Nutan Hotwani\\\\Anaconda3\\\\lib\\\\nltk_data'\n    - 'C:\\\\Users\\\\Nutan Hotwani\\\\AppData\\\\Roaming\\\\nltk_data'\n    - 'C:\\\\nltk_data'\n    - 'D:\\\\nltk_data'\n    - 'E:\\\\nltk_data'\n**********************************************************************\n",
      "\nDuring handling of the above exception, another exception occurred:\n",
      "\u001b[1;31mLookupError\u001b[0m                               Traceback (most recent call last)",
      "\u001b[1;32m<ipython-input-3-d161b4ff04a8>\u001b[0m in \u001b[0;36m<module>\u001b[1;34m\u001b[0m\n\u001b[0;32m      3\u001b[0m \u001b[1;32mimport\u001b[0m \u001b[0mnumpy\u001b[0m \u001b[1;32mas\u001b[0m \u001b[0mnp\u001b[0m\u001b[1;33m\u001b[0m\u001b[1;33m\u001b[0m\u001b[0m\n\u001b[0;32m      4\u001b[0m \u001b[1;32mimport\u001b[0m \u001b[0mpandas\u001b[0m \u001b[1;32mas\u001b[0m \u001b[0mpd\u001b[0m\u001b[1;33m\u001b[0m\u001b[1;33m\u001b[0m\u001b[0m\n\u001b[1;32m----> 5\u001b[1;33m \u001b[1;32mimport\u001b[0m \u001b[0mclean_review\u001b[0m \u001b[1;32mas\u001b[0m \u001b[0mcr\u001b[0m\u001b[1;33m\u001b[0m\u001b[1;33m\u001b[0m\u001b[0m\n\u001b[0m\u001b[0;32m      6\u001b[0m \u001b[1;32mimport\u001b[0m \u001b[0mseaborn\u001b[0m \u001b[1;32mas\u001b[0m \u001b[0msns\u001b[0m\u001b[1;33m\u001b[0m\u001b[1;33m\u001b[0m\u001b[0m\n\u001b[0;32m      7\u001b[0m \u001b[1;32mimport\u001b[0m \u001b[0mrandom\u001b[0m\u001b[1;33m\u001b[0m\u001b[1;33m\u001b[0m\u001b[0m\n",
      "\u001b[1;32m~\\Dot Linker Project\\clean_review.py\u001b[0m in \u001b[0;36m<module>\u001b[1;34m\u001b[0m\n\u001b[0;32m      4\u001b[0m \u001b[1;33m\u001b[0m\u001b[0m\n\u001b[0;32m      5\u001b[0m \u001b[0mtokenizer\u001b[0m\u001b[1;33m=\u001b[0m\u001b[0mRegexpTokenizer\u001b[0m\u001b[1;33m(\u001b[0m\u001b[1;34mr'\\w+'\u001b[0m\u001b[1;33m)\u001b[0m\u001b[1;33m\u001b[0m\u001b[1;33m\u001b[0m\u001b[0m\n\u001b[1;32m----> 6\u001b[1;33m \u001b[0meffective_words\u001b[0m\u001b[1;33m=\u001b[0m\u001b[0mset\u001b[0m\u001b[1;33m(\u001b[0m\u001b[0mstopwords\u001b[0m\u001b[1;33m.\u001b[0m\u001b[0mwords\u001b[0m\u001b[1;33m(\u001b[0m\u001b[1;34m'english'\u001b[0m\u001b[1;33m)\u001b[0m\u001b[1;33m)\u001b[0m\u001b[1;33m\u001b[0m\u001b[1;33m\u001b[0m\u001b[0m\n\u001b[0m\u001b[0;32m      7\u001b[0m \u001b[0mps\u001b[0m\u001b[1;33m=\u001b[0m\u001b[0mPorterStemmer\u001b[0m\u001b[1;33m(\u001b[0m\u001b[1;33m)\u001b[0m\u001b[1;33m\u001b[0m\u001b[1;33m\u001b[0m\u001b[0m\n\u001b[0;32m      8\u001b[0m \u001b[1;33m\u001b[0m\u001b[0m\n",
      "\u001b[1;32m~\\Anaconda3\\lib\\site-packages\\nltk\\corpus\\util.py\u001b[0m in \u001b[0;36m__getattr__\u001b[1;34m(self, attr)\u001b[0m\n\u001b[0;32m    121\u001b[0m             \u001b[1;32mraise\u001b[0m \u001b[0mAttributeError\u001b[0m\u001b[1;33m(\u001b[0m\u001b[1;34m\"LazyCorpusLoader object has no attribute '__bases__'\"\u001b[0m\u001b[1;33m)\u001b[0m\u001b[1;33m\u001b[0m\u001b[1;33m\u001b[0m\u001b[0m\n\u001b[0;32m    122\u001b[0m \u001b[1;33m\u001b[0m\u001b[0m\n\u001b[1;32m--> 123\u001b[1;33m         \u001b[0mself\u001b[0m\u001b[1;33m.\u001b[0m\u001b[0m__load\u001b[0m\u001b[1;33m(\u001b[0m\u001b[1;33m)\u001b[0m\u001b[1;33m\u001b[0m\u001b[1;33m\u001b[0m\u001b[0m\n\u001b[0m\u001b[0;32m    124\u001b[0m         \u001b[1;31m# This looks circular, but its not, since __load() changes our\u001b[0m\u001b[1;33m\u001b[0m\u001b[1;33m\u001b[0m\u001b[1;33m\u001b[0m\u001b[0m\n\u001b[0;32m    125\u001b[0m         \u001b[1;31m# __class__ to something new:\u001b[0m\u001b[1;33m\u001b[0m\u001b[1;33m\u001b[0m\u001b[1;33m\u001b[0m\u001b[0m\n",
      "\u001b[1;32m~\\Anaconda3\\lib\\site-packages\\nltk\\corpus\\util.py\u001b[0m in \u001b[0;36m__load\u001b[1;34m(self)\u001b[0m\n\u001b[0;32m     86\u001b[0m                     \u001b[0mroot\u001b[0m \u001b[1;33m=\u001b[0m \u001b[0mnltk\u001b[0m\u001b[1;33m.\u001b[0m\u001b[0mdata\u001b[0m\u001b[1;33m.\u001b[0m\u001b[0mfind\u001b[0m\u001b[1;33m(\u001b[0m\u001b[1;34m'{}/{}'\u001b[0m\u001b[1;33m.\u001b[0m\u001b[0mformat\u001b[0m\u001b[1;33m(\u001b[0m\u001b[0mself\u001b[0m\u001b[1;33m.\u001b[0m\u001b[0msubdir\u001b[0m\u001b[1;33m,\u001b[0m \u001b[0mzip_name\u001b[0m\u001b[1;33m)\u001b[0m\u001b[1;33m)\u001b[0m\u001b[1;33m\u001b[0m\u001b[1;33m\u001b[0m\u001b[0m\n\u001b[0;32m     87\u001b[0m                 \u001b[1;32mexcept\u001b[0m \u001b[0mLookupError\u001b[0m\u001b[1;33m:\u001b[0m\u001b[1;33m\u001b[0m\u001b[1;33m\u001b[0m\u001b[0m\n\u001b[1;32m---> 88\u001b[1;33m                     \u001b[1;32mraise\u001b[0m \u001b[0me\u001b[0m\u001b[1;33m\u001b[0m\u001b[1;33m\u001b[0m\u001b[0m\n\u001b[0m\u001b[0;32m     89\u001b[0m \u001b[1;33m\u001b[0m\u001b[0m\n\u001b[0;32m     90\u001b[0m         \u001b[1;31m# Load the corpus.\u001b[0m\u001b[1;33m\u001b[0m\u001b[1;33m\u001b[0m\u001b[1;33m\u001b[0m\u001b[0m\n",
      "\u001b[1;32m~\\Anaconda3\\lib\\site-packages\\nltk\\corpus\\util.py\u001b[0m in \u001b[0;36m__load\u001b[1;34m(self)\u001b[0m\n\u001b[0;32m     81\u001b[0m         \u001b[1;32melse\u001b[0m\u001b[1;33m:\u001b[0m\u001b[1;33m\u001b[0m\u001b[1;33m\u001b[0m\u001b[0m\n\u001b[0;32m     82\u001b[0m             \u001b[1;32mtry\u001b[0m\u001b[1;33m:\u001b[0m\u001b[1;33m\u001b[0m\u001b[1;33m\u001b[0m\u001b[0m\n\u001b[1;32m---> 83\u001b[1;33m                 \u001b[0mroot\u001b[0m \u001b[1;33m=\u001b[0m \u001b[0mnltk\u001b[0m\u001b[1;33m.\u001b[0m\u001b[0mdata\u001b[0m\u001b[1;33m.\u001b[0m\u001b[0mfind\u001b[0m\u001b[1;33m(\u001b[0m\u001b[1;34m'{}/{}'\u001b[0m\u001b[1;33m.\u001b[0m\u001b[0mformat\u001b[0m\u001b[1;33m(\u001b[0m\u001b[0mself\u001b[0m\u001b[1;33m.\u001b[0m\u001b[0msubdir\u001b[0m\u001b[1;33m,\u001b[0m \u001b[0mself\u001b[0m\u001b[1;33m.\u001b[0m\u001b[0m__name\u001b[0m\u001b[1;33m)\u001b[0m\u001b[1;33m)\u001b[0m\u001b[1;33m\u001b[0m\u001b[1;33m\u001b[0m\u001b[0m\n\u001b[0m\u001b[0;32m     84\u001b[0m             \u001b[1;32mexcept\u001b[0m \u001b[0mLookupError\u001b[0m \u001b[1;32mas\u001b[0m \u001b[0me\u001b[0m\u001b[1;33m:\u001b[0m\u001b[1;33m\u001b[0m\u001b[1;33m\u001b[0m\u001b[0m\n\u001b[0;32m     85\u001b[0m                 \u001b[1;32mtry\u001b[0m\u001b[1;33m:\u001b[0m\u001b[1;33m\u001b[0m\u001b[1;33m\u001b[0m\u001b[0m\n",
      "\u001b[1;32m~\\Anaconda3\\lib\\site-packages\\nltk\\data.py\u001b[0m in \u001b[0;36mfind\u001b[1;34m(resource_name, paths)\u001b[0m\n\u001b[0;32m    699\u001b[0m     \u001b[0msep\u001b[0m \u001b[1;33m=\u001b[0m \u001b[1;34m'*'\u001b[0m \u001b[1;33m*\u001b[0m \u001b[1;36m70\u001b[0m\u001b[1;33m\u001b[0m\u001b[1;33m\u001b[0m\u001b[0m\n\u001b[0;32m    700\u001b[0m     \u001b[0mresource_not_found\u001b[0m \u001b[1;33m=\u001b[0m \u001b[1;34m'\\n%s\\n%s\\n%s\\n'\u001b[0m \u001b[1;33m%\u001b[0m \u001b[1;33m(\u001b[0m\u001b[0msep\u001b[0m\u001b[1;33m,\u001b[0m \u001b[0mmsg\u001b[0m\u001b[1;33m,\u001b[0m \u001b[0msep\u001b[0m\u001b[1;33m)\u001b[0m\u001b[1;33m\u001b[0m\u001b[1;33m\u001b[0m\u001b[0m\n\u001b[1;32m--> 701\u001b[1;33m     \u001b[1;32mraise\u001b[0m \u001b[0mLookupError\u001b[0m\u001b[1;33m(\u001b[0m\u001b[0mresource_not_found\u001b[0m\u001b[1;33m)\u001b[0m\u001b[1;33m\u001b[0m\u001b[1;33m\u001b[0m\u001b[0m\n\u001b[0m\u001b[0;32m    702\u001b[0m \u001b[1;33m\u001b[0m\u001b[0m\n\u001b[0;32m    703\u001b[0m \u001b[1;33m\u001b[0m\u001b[0m\n",
      "\u001b[1;31mLookupError\u001b[0m: \n**********************************************************************\n  Resource \u001b[93mstopwords\u001b[0m not found.\n  Please use the NLTK Downloader to obtain the resource:\n\n  \u001b[31m>>> import nltk\n  >>> nltk.download('stopwords')\n  \u001b[0m\n  For more information see: https://www.nltk.org/data.html\n\n  Attempted to load \u001b[93mcorpora/stopwords\u001b[0m\n\n  Searched in:\n    - 'C:\\\\Users\\\\Nutan Hotwani/nltk_data'\n    - 'C:\\\\Users\\\\Nutan Hotwani\\\\Anaconda3\\\\nltk_data'\n    - 'C:\\\\Users\\\\Nutan Hotwani\\\\Anaconda3\\\\share\\\\nltk_data'\n    - 'C:\\\\Users\\\\Nutan Hotwani\\\\Anaconda3\\\\lib\\\\nltk_data'\n    - 'C:\\\\Users\\\\Nutan Hotwani\\\\AppData\\\\Roaming\\\\nltk_data'\n    - 'C:\\\\nltk_data'\n    - 'D:\\\\nltk_data'\n    - 'E:\\\\nltk_data'\n**********************************************************************\n"
     ]
    }
   ],
   "source": [
    "import json\n",
    "import matplotlib.pyplot as plt\n",
    "import numpy as np\n",
    "import pandas as pd\n",
    "import clean_review as cr\n",
    "import seaborn as sns\n",
    "import random\n",
    "import time\n",
    "from IPython.display import Markdown, display\n",
    "import math"
   ]
  },
  {
   "cell_type": "code",
   "execution_count": 4,
   "metadata": {},
   "outputs": [],
   "source": [
    "plt.style.use('seaborn')"
   ]
  },
  {
   "cell_type": "code",
   "execution_count": 5,
   "metadata": {},
   "outputs": [],
   "source": [
    "def printmd(string):\n",
    "    display(Markdown(string))"
   ]
  },
  {
   "cell_type": "markdown",
   "metadata": {},
   "source": [
    "### Load Dataset"
   ]
  },
  {
   "cell_type": "code",
   "execution_count": 6,
   "metadata": {},
   "outputs": [
    {
     "data": {
      "text/html": [
       "<div>\n",
       "<style scoped>\n",
       "    .dataframe tbody tr th:only-of-type {\n",
       "        vertical-align: middle;\n",
       "    }\n",
       "\n",
       "    .dataframe tbody tr th {\n",
       "        vertical-align: top;\n",
       "    }\n",
       "\n",
       "    .dataframe thead th {\n",
       "        text-align: right;\n",
       "    }\n",
       "</style>\n",
       "<table border=\"1\" class=\"dataframe\">\n",
       "  <thead>\n",
       "    <tr style=\"text-align: right;\">\n",
       "      <th></th>\n",
       "      <th>overall</th>\n",
       "      <th>verified</th>\n",
       "      <th>reviewTime</th>\n",
       "      <th>reviewerID</th>\n",
       "      <th>asin</th>\n",
       "      <th>style</th>\n",
       "      <th>reviewerName</th>\n",
       "      <th>reviewText</th>\n",
       "      <th>summary</th>\n",
       "      <th>unixReviewTime</th>\n",
       "      <th>vote</th>\n",
       "      <th>image</th>\n",
       "    </tr>\n",
       "  </thead>\n",
       "  <tbody>\n",
       "    <tr>\n",
       "      <td>0</td>\n",
       "      <td>4.0</td>\n",
       "      <td>True</td>\n",
       "      <td>03 11, 2014</td>\n",
       "      <td>A240ORQ2LF9LUI</td>\n",
       "      <td>0077613252</td>\n",
       "      <td>{'Format:': ' Loose Leaf'}</td>\n",
       "      <td>Michelle W</td>\n",
       "      <td>The materials arrived early and were in excell...</td>\n",
       "      <td>Material Great</td>\n",
       "      <td>1394496000</td>\n",
       "      <td>NaN</td>\n",
       "      <td>NaN</td>\n",
       "    </tr>\n",
       "    <tr>\n",
       "      <td>1</td>\n",
       "      <td>4.0</td>\n",
       "      <td>True</td>\n",
       "      <td>02 23, 2014</td>\n",
       "      <td>A1YCCU0YRLS0FE</td>\n",
       "      <td>0077613252</td>\n",
       "      <td>{'Format:': ' Loose Leaf'}</td>\n",
       "      <td>Rosalind White Ames</td>\n",
       "      <td>I am really enjoying this book with the worksh...</td>\n",
       "      <td>Health</td>\n",
       "      <td>1393113600</td>\n",
       "      <td>NaN</td>\n",
       "      <td>NaN</td>\n",
       "    </tr>\n",
       "    <tr>\n",
       "      <td>2</td>\n",
       "      <td>1.0</td>\n",
       "      <td>True</td>\n",
       "      <td>02 17, 2014</td>\n",
       "      <td>A1BJHRQDYVAY2J</td>\n",
       "      <td>0077613252</td>\n",
       "      <td>{'Format:': ' Loose Leaf'}</td>\n",
       "      <td>Allan R. Baker</td>\n",
       "      <td>IF YOU ARE TAKING THIS CLASS DON\"T WASTE YOUR ...</td>\n",
       "      <td>ARE YOU KIDING ME?</td>\n",
       "      <td>1392595200</td>\n",
       "      <td>7</td>\n",
       "      <td>NaN</td>\n",
       "    </tr>\n",
       "    <tr>\n",
       "      <td>3</td>\n",
       "      <td>3.0</td>\n",
       "      <td>True</td>\n",
       "      <td>02 17, 2014</td>\n",
       "      <td>APRDVZ6QBIQXT</td>\n",
       "      <td>0077613252</td>\n",
       "      <td>{'Format:': ' Loose Leaf'}</td>\n",
       "      <td>Lucy</td>\n",
       "      <td>This book was missing pages!!! Important pages...</td>\n",
       "      <td>missing pages!!</td>\n",
       "      <td>1392595200</td>\n",
       "      <td>3</td>\n",
       "      <td>NaN</td>\n",
       "    </tr>\n",
       "    <tr>\n",
       "      <td>4</td>\n",
       "      <td>5.0</td>\n",
       "      <td>False</td>\n",
       "      <td>10 14, 2013</td>\n",
       "      <td>A2JZTTBSLS1QXV</td>\n",
       "      <td>0077775473</td>\n",
       "      <td>NaN</td>\n",
       "      <td>Albert V.</td>\n",
       "      <td>I have used LearnSmart and can officially say ...</td>\n",
       "      <td>Best study product out there!</td>\n",
       "      <td>1381708800</td>\n",
       "      <td>NaN</td>\n",
       "      <td>NaN</td>\n",
       "    </tr>\n",
       "  </tbody>\n",
       "</table>\n",
       "</div>"
      ],
      "text/plain": [
       "   overall  verified   reviewTime      reviewerID        asin  \\\n",
       "0      4.0      True  03 11, 2014  A240ORQ2LF9LUI  0077613252   \n",
       "1      4.0      True  02 23, 2014  A1YCCU0YRLS0FE  0077613252   \n",
       "2      1.0      True  02 17, 2014  A1BJHRQDYVAY2J  0077613252   \n",
       "3      3.0      True  02 17, 2014   APRDVZ6QBIQXT  0077613252   \n",
       "4      5.0     False  10 14, 2013  A2JZTTBSLS1QXV  0077775473   \n",
       "\n",
       "                        style         reviewerName  \\\n",
       "0  {'Format:': ' Loose Leaf'}           Michelle W   \n",
       "1  {'Format:': ' Loose Leaf'}  Rosalind White Ames   \n",
       "2  {'Format:': ' Loose Leaf'}       Allan R. Baker   \n",
       "3  {'Format:': ' Loose Leaf'}                 Lucy   \n",
       "4                         NaN            Albert V.   \n",
       "\n",
       "                                          reviewText  \\\n",
       "0  The materials arrived early and were in excell...   \n",
       "1  I am really enjoying this book with the worksh...   \n",
       "2  IF YOU ARE TAKING THIS CLASS DON\"T WASTE YOUR ...   \n",
       "3  This book was missing pages!!! Important pages...   \n",
       "4  I have used LearnSmart and can officially say ...   \n",
       "\n",
       "                         summary  unixReviewTime vote image  \n",
       "0                 Material Great      1394496000  NaN   NaN  \n",
       "1                         Health      1393113600  NaN   NaN  \n",
       "2             ARE YOU KIDING ME?      1392595200    7   NaN  \n",
       "3                missing pages!!      1392595200    3   NaN  \n",
       "4  Best study product out there!      1381708800  NaN   NaN  "
      ]
     },
     "execution_count": 6,
     "metadata": {},
     "output_type": "execute_result"
    }
   ],
   "source": [
    "dataset=[]\n",
    "with open('Software.json',encoding='utf-8') as read_file:\n",
    "    for line in read_file:\n",
    "        dataset.append(json.loads(line))\n",
    "    read_file.close()\n",
    "\n",
    "#random.shuffle(dataset)\n",
    "    \n",
    "dataset=pd.DataFrame(dataset)\n",
    "dataset.head(n=5)"
   ]
  },
  {
   "cell_type": "code",
   "execution_count": 7,
   "metadata": {},
   "outputs": [
    {
     "name": "stdout",
     "output_type": "stream",
     "text": [
      "<class 'pandas.core.frame.DataFrame'>\n",
      "RangeIndex: 459436 entries, 0 to 459435\n",
      "Data columns (total 12 columns):\n",
      "overall           459436 non-null float64\n",
      "verified          459436 non-null bool\n",
      "reviewTime        459436 non-null object\n",
      "reviewerID        459436 non-null object\n",
      "asin              459436 non-null object\n",
      "style             234401 non-null object\n",
      "reviewerName      459412 non-null object\n",
      "reviewText        459370 non-null object\n",
      "summary           459380 non-null object\n",
      "unixReviewTime    459436 non-null int64\n",
      "vote              127853 non-null object\n",
      "image             1508 non-null object\n",
      "dtypes: bool(1), float64(1), int64(1), object(9)\n",
      "memory usage: 39.0+ MB\n"
     ]
    }
   ],
   "source": [
    "dataset.info()"
   ]
  },
  {
   "cell_type": "code",
   "execution_count": 8,
   "metadata": {},
   "outputs": [
    {
     "data": {
      "text/html": [
       "<div>\n",
       "<style scoped>\n",
       "    .dataframe tbody tr th:only-of-type {\n",
       "        vertical-align: middle;\n",
       "    }\n",
       "\n",
       "    .dataframe tbody tr th {\n",
       "        vertical-align: top;\n",
       "    }\n",
       "\n",
       "    .dataframe thead th {\n",
       "        text-align: right;\n",
       "    }\n",
       "</style>\n",
       "<table border=\"1\" class=\"dataframe\">\n",
       "  <thead>\n",
       "    <tr style=\"text-align: right;\">\n",
       "      <th></th>\n",
       "      <th>title</th>\n",
       "      <th>brand</th>\n",
       "      <th>rank</th>\n",
       "      <th>main_cat</th>\n",
       "      <th>asin</th>\n",
       "      <th>description</th>\n",
       "      <th>image</th>\n",
       "      <th>also_buy</th>\n",
       "      <th>price</th>\n",
       "      <th>feature</th>\n",
       "      <th>also_view</th>\n",
       "      <th>category</th>\n",
       "      <th>tech1</th>\n",
       "      <th>date</th>\n",
       "      <th>details</th>\n",
       "      <th>similar_item</th>\n",
       "      <th>tech2</th>\n",
       "    </tr>\n",
       "  </thead>\n",
       "  <tbody>\n",
       "    <tr>\n",
       "      <td>0</td>\n",
       "      <td>HOLT PHYSICS LESSON PRESENTATION CD-ROM QUICK ...</td>\n",
       "      <td>HOLT. RINEHART AND WINSTON</td>\n",
       "      <td>25,550inSoftware(</td>\n",
       "      <td>Software</td>\n",
       "      <td>0030672120</td>\n",
       "      <td>NaN</td>\n",
       "      <td>NaN</td>\n",
       "      <td>NaN</td>\n",
       "      <td>NaN</td>\n",
       "      <td>NaN</td>\n",
       "      <td>NaN</td>\n",
       "      <td>NaN</td>\n",
       "      <td>NaN</td>\n",
       "      <td>NaN</td>\n",
       "      <td>NaN</td>\n",
       "      <td>NaN</td>\n",
       "      <td>NaN</td>\n",
       "    </tr>\n",
       "    <tr>\n",
       "      <td>1</td>\n",
       "      <td>Sing, Watch, &amp; Learn Spanish (DVD + Guide): 16...</td>\n",
       "      <td>McGraw Hill</td>\n",
       "      <td>15,792inSoftware(</td>\n",
       "      <td>Software</td>\n",
       "      <td>0071480935</td>\n",
       "      <td>[, Latin rhythms that will get your kids singi...</td>\n",
       "      <td>[https://images-na.ssl-images-amazon.com/image...</td>\n",
       "      <td>NaN</td>\n",
       "      <td>NaN</td>\n",
       "      <td>NaN</td>\n",
       "      <td>NaN</td>\n",
       "      <td>NaN</td>\n",
       "      <td>NaN</td>\n",
       "      <td>NaN</td>\n",
       "      <td>NaN</td>\n",
       "      <td>NaN</td>\n",
       "      <td>NaN</td>\n",
       "    </tr>\n",
       "    <tr>\n",
       "      <td>2</td>\n",
       "      <td>Connect with LearnSmart Access Card for Microb...</td>\n",
       "      <td>McGraw-Hill Science/Engineering/Math</td>\n",
       "      <td>16,900inSoftware(</td>\n",
       "      <td>Software</td>\n",
       "      <td>007329506X</td>\n",
       "      <td>[Connect is the only integrated learning syste...</td>\n",
       "      <td>[https://images-na.ssl-images-amazon.com/image...</td>\n",
       "      <td>NaN</td>\n",
       "      <td>NaN</td>\n",
       "      <td>NaN</td>\n",
       "      <td>NaN</td>\n",
       "      <td>NaN</td>\n",
       "      <td>NaN</td>\n",
       "      <td>NaN</td>\n",
       "      <td>NaN</td>\n",
       "      <td>NaN</td>\n",
       "      <td>NaN</td>\n",
       "    </tr>\n",
       "    <tr>\n",
       "      <td>3</td>\n",
       "      <td>LearnSmart Standalone Access Card for Prescott...</td>\n",
       "      <td>McGraw-Hill Education</td>\n",
       "      <td>12,986inSoftware(</td>\n",
       "      <td>Software</td>\n",
       "      <td>0073513458</td>\n",
       "      <td>NaN</td>\n",
       "      <td>[https://images-na.ssl-images-amazon.com/image...</td>\n",
       "      <td>NaN</td>\n",
       "      <td>NaN</td>\n",
       "      <td>NaN</td>\n",
       "      <td>NaN</td>\n",
       "      <td>NaN</td>\n",
       "      <td>NaN</td>\n",
       "      <td>NaN</td>\n",
       "      <td>NaN</td>\n",
       "      <td>NaN</td>\n",
       "      <td>NaN</td>\n",
       "    </tr>\n",
       "    <tr>\n",
       "      <td>4</td>\n",
       "      <td>Anatomy &amp; Physiology Revealed Student Access C...</td>\n",
       "      <td>McGraw-Hill Education</td>\n",
       "      <td>14,861inSoftware(</td>\n",
       "      <td>Software</td>\n",
       "      <td>0073525758</td>\n",
       "      <td>[Anatomy &amp; Physiology Revealed Cat is the ulti...</td>\n",
       "      <td>[https://images-na.ssl-images-amazon.com/image...</td>\n",
       "      <td>[0323394612, 0323227937, 1118527488]</td>\n",
       "      <td>$4.83</td>\n",
       "      <td>NaN</td>\n",
       "      <td>NaN</td>\n",
       "      <td>NaN</td>\n",
       "      <td>NaN</td>\n",
       "      <td>NaN</td>\n",
       "      <td>NaN</td>\n",
       "      <td>NaN</td>\n",
       "      <td>NaN</td>\n",
       "    </tr>\n",
       "  </tbody>\n",
       "</table>\n",
       "</div>"
      ],
      "text/plain": [
       "                                               title  \\\n",
       "0  HOLT PHYSICS LESSON PRESENTATION CD-ROM QUICK ...   \n",
       "1  Sing, Watch, & Learn Spanish (DVD + Guide): 16...   \n",
       "2  Connect with LearnSmart Access Card for Microb...   \n",
       "3  LearnSmart Standalone Access Card for Prescott...   \n",
       "4  Anatomy & Physiology Revealed Student Access C...   \n",
       "\n",
       "                                  brand               rank  main_cat  \\\n",
       "0            HOLT. RINEHART AND WINSTON  25,550inSoftware(  Software   \n",
       "1                           McGraw Hill  15,792inSoftware(  Software   \n",
       "2  McGraw-Hill Science/Engineering/Math  16,900inSoftware(  Software   \n",
       "3                 McGraw-Hill Education  12,986inSoftware(  Software   \n",
       "4                 McGraw-Hill Education  14,861inSoftware(  Software   \n",
       "\n",
       "         asin                                        description  \\\n",
       "0  0030672120                                                NaN   \n",
       "1  0071480935  [, Latin rhythms that will get your kids singi...   \n",
       "2  007329506X  [Connect is the only integrated learning syste...   \n",
       "3  0073513458                                                NaN   \n",
       "4  0073525758  [Anatomy & Physiology Revealed Cat is the ulti...   \n",
       "\n",
       "                                               image  \\\n",
       "0                                                NaN   \n",
       "1  [https://images-na.ssl-images-amazon.com/image...   \n",
       "2  [https://images-na.ssl-images-amazon.com/image...   \n",
       "3  [https://images-na.ssl-images-amazon.com/image...   \n",
       "4  [https://images-na.ssl-images-amazon.com/image...   \n",
       "\n",
       "                               also_buy  price feature also_view category  \\\n",
       "0                                   NaN    NaN     NaN       NaN      NaN   \n",
       "1                                   NaN    NaN     NaN       NaN      NaN   \n",
       "2                                   NaN    NaN     NaN       NaN      NaN   \n",
       "3                                   NaN    NaN     NaN       NaN      NaN   \n",
       "4  [0323394612, 0323227937, 1118527488]  $4.83     NaN       NaN      NaN   \n",
       "\n",
       "  tech1 date details similar_item tech2  \n",
       "0   NaN  NaN     NaN          NaN   NaN  \n",
       "1   NaN  NaN     NaN          NaN   NaN  \n",
       "2   NaN  NaN     NaN          NaN   NaN  \n",
       "3   NaN  NaN     NaN          NaN   NaN  \n",
       "4   NaN  NaN     NaN          NaN   NaN  "
      ]
     },
     "execution_count": 8,
     "metadata": {},
     "output_type": "execute_result"
    }
   ],
   "source": [
    "metadata=[]\n",
    "with open('meta_Software.json',encoding='utf-8') as read_file:\n",
    "    for line in read_file:\n",
    "        metadata.append(json.loads(line))\n",
    "    read_file.close()\n",
    "    \n",
    "metadata=pd.DataFrame(metadata)\n",
    "metadata.head()"
   ]
  },
  {
   "cell_type": "code",
   "execution_count": 9,
   "metadata": {},
   "outputs": [
    {
     "name": "stdout",
     "output_type": "stream",
     "text": [
      "<class 'pandas.core.frame.DataFrame'>\n",
      "RangeIndex: 26815 entries, 0 to 26814\n",
      "Data columns (total 17 columns):\n",
      "title           26806 non-null object\n",
      "brand           26160 non-null object\n",
      "rank            24672 non-null object\n",
      "main_cat        26740 non-null object\n",
      "asin            26815 non-null object\n",
      "description     23216 non-null object\n",
      "image           11667 non-null object\n",
      "also_buy        2655 non-null object\n",
      "price           5319 non-null object\n",
      "feature         17959 non-null object\n",
      "also_view       6981 non-null object\n",
      "category        24751 non-null object\n",
      "tech1           286 non-null object\n",
      "date            907 non-null object\n",
      "details         22748 non-null object\n",
      "similar_item    46 non-null object\n",
      "tech2           4 non-null object\n",
      "dtypes: object(17)\n",
      "memory usage: 3.5+ MB\n"
     ]
    }
   ],
   "source": [
    "metadata.info()"
   ]
  },
  {
   "cell_type": "markdown",
   "metadata": {},
   "source": [
    "### Data Preprocessing / Data mining"
   ]
  },
  {
   "cell_type": "code",
   "execution_count": 10,
   "metadata": {},
   "outputs": [
    {
     "name": "stdout",
     "output_type": "stream",
     "text": [
      "<class 'pandas.core.frame.DataFrame'>\n",
      "RangeIndex: 459436 entries, 0 to 459435\n",
      "Data columns (total 8 columns):\n",
      "overall       459436 non-null float64\n",
      "verified      459436 non-null bool\n",
      "reviewTime    459436 non-null object\n",
      "reviewerID    459436 non-null object\n",
      "asin          459436 non-null object\n",
      "reviewText    459370 non-null object\n",
      "summary       459380 non-null object\n",
      "vote          127853 non-null object\n",
      "dtypes: bool(1), float64(1), object(6)\n",
      "memory usage: 25.0+ MB\n",
      "<class 'pandas.core.frame.DataFrame'>\n",
      "RangeIndex: 26815 entries, 0 to 26814\n",
      "Data columns (total 8 columns):\n",
      "title          26806 non-null object\n",
      "brand          26160 non-null object\n",
      "rank           24672 non-null object\n",
      "main_cat       26740 non-null object\n",
      "asin           26815 non-null object\n",
      "description    23216 non-null object\n",
      "feature        17959 non-null object\n",
      "category       24751 non-null object\n",
      "dtypes: object(8)\n",
      "memory usage: 1.6+ MB\n"
     ]
    },
    {
     "data": {
      "text/plain": [
       "(None, None)"
      ]
     },
     "execution_count": 10,
     "metadata": {},
     "output_type": "execute_result"
    }
   ],
   "source": [
    "# Remove unnecessary Columns\n",
    "\n",
    "dataset=dataset.drop(['reviewerName', 'unixReviewTime', 'image','style'],axis=1)\n",
    "metadata=metadata.drop(['image','also_buy','price','also_view','tech1','date','similar_item','tech2','details'],axis=1)\n",
    "\n",
    "dataset.info(),metadata.info()"
   ]
  },
  {
   "cell_type": "code",
   "execution_count": 11,
   "metadata": {},
   "outputs": [],
   "source": [
    "for i in dataset.columns:\n",
    "    dataset=dataset.fillna('-')"
   ]
  },
  {
   "cell_type": "code",
   "execution_count": 12,
   "metadata": {},
   "outputs": [
    {
     "data": {
      "text/plain": [
       "\"for i in range(len(dataset)):\\n    if type(dataset['style'][i]) == dict:\\n        dataset['style'][i] = list(dataset['style'][i].values())[0].strip()\""
      ]
     },
     "execution_count": 12,
     "metadata": {},
     "output_type": "execute_result"
    }
   ],
   "source": [
    "\"\"\"for i in range(len(dataset)):\n",
    "    if type(dataset['style'][i]) == dict:\n",
    "        dataset['style'][i] = list(dataset['style'][i].values())[0].strip()\"\"\""
   ]
  },
  {
   "cell_type": "code",
   "execution_count": 11,
   "metadata": {},
   "outputs": [
    {
     "data": {
      "text/html": [
       "<div>\n",
       "<style scoped>\n",
       "    .dataframe tbody tr th:only-of-type {\n",
       "        vertical-align: middle;\n",
       "    }\n",
       "\n",
       "    .dataframe tbody tr th {\n",
       "        vertical-align: top;\n",
       "    }\n",
       "\n",
       "    .dataframe thead th {\n",
       "        text-align: right;\n",
       "    }\n",
       "</style>\n",
       "<table border=\"1\" class=\"dataframe\">\n",
       "  <thead>\n",
       "    <tr style=\"text-align: right;\">\n",
       "      <th></th>\n",
       "      <th>overall</th>\n",
       "      <th>verified</th>\n",
       "      <th>reviewTime</th>\n",
       "      <th>reviewerID</th>\n",
       "      <th>asin</th>\n",
       "      <th>reviewText</th>\n",
       "      <th>summary</th>\n",
       "      <th>vote</th>\n",
       "    </tr>\n",
       "  </thead>\n",
       "  <tbody>\n",
       "    <tr>\n",
       "      <th>0</th>\n",
       "      <td>4.0</td>\n",
       "      <td>True</td>\n",
       "      <td>03 11, 2014</td>\n",
       "      <td>A240ORQ2LF9LUI</td>\n",
       "      <td>0077613252</td>\n",
       "      <td>The materials arrived early and were in excell...</td>\n",
       "      <td>Material Great</td>\n",
       "      <td>-</td>\n",
       "    </tr>\n",
       "    <tr>\n",
       "      <th>1</th>\n",
       "      <td>4.0</td>\n",
       "      <td>True</td>\n",
       "      <td>02 23, 2014</td>\n",
       "      <td>A1YCCU0YRLS0FE</td>\n",
       "      <td>0077613252</td>\n",
       "      <td>I am really enjoying this book with the worksh...</td>\n",
       "      <td>Health</td>\n",
       "      <td>-</td>\n",
       "    </tr>\n",
       "    <tr>\n",
       "      <th>2</th>\n",
       "      <td>1.0</td>\n",
       "      <td>True</td>\n",
       "      <td>02 17, 2014</td>\n",
       "      <td>A1BJHRQDYVAY2J</td>\n",
       "      <td>0077613252</td>\n",
       "      <td>IF YOU ARE TAKING THIS CLASS DON\"T WASTE YOUR ...</td>\n",
       "      <td>ARE YOU KIDING ME?</td>\n",
       "      <td>7</td>\n",
       "    </tr>\n",
       "    <tr>\n",
       "      <th>3</th>\n",
       "      <td>3.0</td>\n",
       "      <td>True</td>\n",
       "      <td>02 17, 2014</td>\n",
       "      <td>APRDVZ6QBIQXT</td>\n",
       "      <td>0077613252</td>\n",
       "      <td>This book was missing pages!!! Important pages...</td>\n",
       "      <td>missing pages!!</td>\n",
       "      <td>3</td>\n",
       "    </tr>\n",
       "    <tr>\n",
       "      <th>4</th>\n",
       "      <td>5.0</td>\n",
       "      <td>False</td>\n",
       "      <td>10 14, 2013</td>\n",
       "      <td>A2JZTTBSLS1QXV</td>\n",
       "      <td>0077775473</td>\n",
       "      <td>I have used LearnSmart and can officially say ...</td>\n",
       "      <td>Best study product out there!</td>\n",
       "      <td>-</td>\n",
       "    </tr>\n",
       "  </tbody>\n",
       "</table>\n",
       "</div>"
      ],
      "text/plain": [
       "   overall  verified   reviewTime      reviewerID        asin  \\\n",
       "0      4.0      True  03 11, 2014  A240ORQ2LF9LUI  0077613252   \n",
       "1      4.0      True  02 23, 2014  A1YCCU0YRLS0FE  0077613252   \n",
       "2      1.0      True  02 17, 2014  A1BJHRQDYVAY2J  0077613252   \n",
       "3      3.0      True  02 17, 2014   APRDVZ6QBIQXT  0077613252   \n",
       "4      5.0     False  10 14, 2013  A2JZTTBSLS1QXV  0077775473   \n",
       "\n",
       "                                          reviewText  \\\n",
       "0  The materials arrived early and were in excell...   \n",
       "1  I am really enjoying this book with the worksh...   \n",
       "2  IF YOU ARE TAKING THIS CLASS DON\"T WASTE YOUR ...   \n",
       "3  This book was missing pages!!! Important pages...   \n",
       "4  I have used LearnSmart and can officially say ...   \n",
       "\n",
       "                         summary vote  \n",
       "0                 Material Great    -  \n",
       "1                         Health    -  \n",
       "2             ARE YOU KIDING ME?    7  \n",
       "3                missing pages!!    3  \n",
       "4  Best study product out there!    -  "
      ]
     },
     "execution_count": 11,
     "metadata": {},
     "output_type": "execute_result"
    }
   ],
   "source": [
    "dataset.head()"
   ]
  },
  {
   "cell_type": "code",
   "execution_count": 12,
   "metadata": {},
   "outputs": [
    {
     "data": {
      "text/html": [
       "<div>\n",
       "<style scoped>\n",
       "    .dataframe tbody tr th:only-of-type {\n",
       "        vertical-align: middle;\n",
       "    }\n",
       "\n",
       "    .dataframe tbody tr th {\n",
       "        vertical-align: top;\n",
       "    }\n",
       "\n",
       "    .dataframe thead th {\n",
       "        text-align: right;\n",
       "    }\n",
       "</style>\n",
       "<table border=\"1\" class=\"dataframe\">\n",
       "  <thead>\n",
       "    <tr style=\"text-align: right;\">\n",
       "      <th></th>\n",
       "      <th>title</th>\n",
       "      <th>brand</th>\n",
       "      <th>rank</th>\n",
       "      <th>main_cat</th>\n",
       "      <th>asin</th>\n",
       "      <th>description</th>\n",
       "      <th>feature</th>\n",
       "      <th>category</th>\n",
       "    </tr>\n",
       "  </thead>\n",
       "  <tbody>\n",
       "    <tr>\n",
       "      <th>0</th>\n",
       "      <td>HOLT PHYSICS LESSON PRESENTATION CD-ROM QUICK ...</td>\n",
       "      <td>HOLT. RINEHART AND WINSTON</td>\n",
       "      <td>25,550inSoftware(</td>\n",
       "      <td>Software</td>\n",
       "      <td>0030672120</td>\n",
       "      <td>NaN</td>\n",
       "      <td>NaN</td>\n",
       "      <td>NaN</td>\n",
       "    </tr>\n",
       "    <tr>\n",
       "      <th>1</th>\n",
       "      <td>Sing, Watch, &amp; Learn Spanish (DVD + Guide): 16...</td>\n",
       "      <td>McGraw Hill</td>\n",
       "      <td>15,792inSoftware(</td>\n",
       "      <td>Software</td>\n",
       "      <td>0071480935</td>\n",
       "      <td>[, Latin rhythms that will get your kids singi...</td>\n",
       "      <td>NaN</td>\n",
       "      <td>NaN</td>\n",
       "    </tr>\n",
       "    <tr>\n",
       "      <th>2</th>\n",
       "      <td>Connect with LearnSmart Access Card for Microb...</td>\n",
       "      <td>McGraw-Hill Science/Engineering/Math</td>\n",
       "      <td>16,900inSoftware(</td>\n",
       "      <td>Software</td>\n",
       "      <td>007329506X</td>\n",
       "      <td>[Connect is the only integrated learning syste...</td>\n",
       "      <td>NaN</td>\n",
       "      <td>NaN</td>\n",
       "    </tr>\n",
       "    <tr>\n",
       "      <th>3</th>\n",
       "      <td>LearnSmart Standalone Access Card for Prescott...</td>\n",
       "      <td>McGraw-Hill Education</td>\n",
       "      <td>12,986inSoftware(</td>\n",
       "      <td>Software</td>\n",
       "      <td>0073513458</td>\n",
       "      <td>NaN</td>\n",
       "      <td>NaN</td>\n",
       "      <td>NaN</td>\n",
       "    </tr>\n",
       "    <tr>\n",
       "      <th>4</th>\n",
       "      <td>Anatomy &amp; Physiology Revealed Student Access C...</td>\n",
       "      <td>McGraw-Hill Education</td>\n",
       "      <td>14,861inSoftware(</td>\n",
       "      <td>Software</td>\n",
       "      <td>0073525758</td>\n",
       "      <td>[Anatomy &amp; Physiology Revealed Cat is the ulti...</td>\n",
       "      <td>NaN</td>\n",
       "      <td>NaN</td>\n",
       "    </tr>\n",
       "  </tbody>\n",
       "</table>\n",
       "</div>"
      ],
      "text/plain": [
       "                                               title  \\\n",
       "0  HOLT PHYSICS LESSON PRESENTATION CD-ROM QUICK ...   \n",
       "1  Sing, Watch, & Learn Spanish (DVD + Guide): 16...   \n",
       "2  Connect with LearnSmart Access Card for Microb...   \n",
       "3  LearnSmart Standalone Access Card for Prescott...   \n",
       "4  Anatomy & Physiology Revealed Student Access C...   \n",
       "\n",
       "                                  brand               rank  main_cat  \\\n",
       "0            HOLT. RINEHART AND WINSTON  25,550inSoftware(  Software   \n",
       "1                           McGraw Hill  15,792inSoftware(  Software   \n",
       "2  McGraw-Hill Science/Engineering/Math  16,900inSoftware(  Software   \n",
       "3                 McGraw-Hill Education  12,986inSoftware(  Software   \n",
       "4                 McGraw-Hill Education  14,861inSoftware(  Software   \n",
       "\n",
       "         asin                                        description feature  \\\n",
       "0  0030672120                                                NaN     NaN   \n",
       "1  0071480935  [, Latin rhythms that will get your kids singi...     NaN   \n",
       "2  007329506X  [Connect is the only integrated learning syste...     NaN   \n",
       "3  0073513458                                                NaN     NaN   \n",
       "4  0073525758  [Anatomy & Physiology Revealed Cat is the ulti...     NaN   \n",
       "\n",
       "  category  \n",
       "0      NaN  \n",
       "1      NaN  \n",
       "2      NaN  \n",
       "3      NaN  \n",
       "4      NaN  "
      ]
     },
     "execution_count": 12,
     "metadata": {},
     "output_type": "execute_result"
    }
   ],
   "source": [
    "metadata.head()"
   ]
  },
  {
   "cell_type": "code",
   "execution_count": 13,
   "metadata": {},
   "outputs": [],
   "source": [
    "product_dataset=pd.merge(dataset,metadata)[:150000]"
   ]
  },
  {
   "cell_type": "code",
   "execution_count": 14,
   "metadata": {},
   "outputs": [
    {
     "name": "stdout",
     "output_type": "stream",
     "text": [
      "<class 'pandas.core.frame.DataFrame'>\n",
      "Int64Index: 150000 entries, 0 to 149999\n",
      "Data columns (total 15 columns):\n",
      "overall        150000 non-null float64\n",
      "verified       150000 non-null bool\n",
      "reviewTime     150000 non-null object\n",
      "reviewerID     150000 non-null object\n",
      "asin           150000 non-null object\n",
      "reviewText     150000 non-null object\n",
      "summary        150000 non-null object\n",
      "vote           150000 non-null object\n",
      "title          150000 non-null object\n",
      "brand          149459 non-null object\n",
      "rank           143530 non-null object\n",
      "main_cat       150000 non-null object\n",
      "description    144836 non-null object\n",
      "feature        120820 non-null object\n",
      "category       145902 non-null object\n",
      "dtypes: bool(1), float64(1), object(13)\n",
      "memory usage: 17.3+ MB\n"
     ]
    }
   ],
   "source": [
    "product_dataset.info()"
   ]
  },
  {
   "cell_type": "code",
   "execution_count": 15,
   "metadata": {},
   "outputs": [
    {
     "data": {
      "text/html": [
       "<div>\n",
       "<style scoped>\n",
       "    .dataframe tbody tr th:only-of-type {\n",
       "        vertical-align: middle;\n",
       "    }\n",
       "\n",
       "    .dataframe tbody tr th {\n",
       "        vertical-align: top;\n",
       "    }\n",
       "\n",
       "    .dataframe thead th {\n",
       "        text-align: right;\n",
       "    }\n",
       "</style>\n",
       "<table border=\"1\" class=\"dataframe\">\n",
       "  <thead>\n",
       "    <tr style=\"text-align: right;\">\n",
       "      <th></th>\n",
       "      <th>overall</th>\n",
       "      <th>verified</th>\n",
       "      <th>reviewTime</th>\n",
       "      <th>reviewerID</th>\n",
       "      <th>asin</th>\n",
       "      <th>reviewText</th>\n",
       "      <th>summary</th>\n",
       "      <th>vote</th>\n",
       "      <th>title</th>\n",
       "      <th>brand</th>\n",
       "      <th>rank</th>\n",
       "      <th>main_cat</th>\n",
       "      <th>description</th>\n",
       "      <th>feature</th>\n",
       "      <th>category</th>\n",
       "    </tr>\n",
       "  </thead>\n",
       "  <tbody>\n",
       "    <tr>\n",
       "      <th>0</th>\n",
       "      <td>4.0</td>\n",
       "      <td>True</td>\n",
       "      <td>03 11, 2014</td>\n",
       "      <td>A240ORQ2LF9LUI</td>\n",
       "      <td>0077613252</td>\n",
       "      <td>The materials arrived early and were in excell...</td>\n",
       "      <td>Material Great</td>\n",
       "      <td>-</td>\n",
       "      <td>Connect Personal Health with LearnSmart 1 Seme...</td>\n",
       "      <td>McGraw-Hill Humanities/Social Sciences/Languages</td>\n",
       "      <td>15,675inSoftware(</td>\n",
       "      <td>Software</td>\n",
       "      <td>[The most reliable and widely used personal he...</td>\n",
       "      <td>NaN</td>\n",
       "      <td>NaN</td>\n",
       "    </tr>\n",
       "    <tr>\n",
       "      <th>1</th>\n",
       "      <td>4.0</td>\n",
       "      <td>True</td>\n",
       "      <td>02 23, 2014</td>\n",
       "      <td>A1YCCU0YRLS0FE</td>\n",
       "      <td>0077613252</td>\n",
       "      <td>I am really enjoying this book with the worksh...</td>\n",
       "      <td>Health</td>\n",
       "      <td>-</td>\n",
       "      <td>Connect Personal Health with LearnSmart 1 Seme...</td>\n",
       "      <td>McGraw-Hill Humanities/Social Sciences/Languages</td>\n",
       "      <td>15,675inSoftware(</td>\n",
       "      <td>Software</td>\n",
       "      <td>[The most reliable and widely used personal he...</td>\n",
       "      <td>NaN</td>\n",
       "      <td>NaN</td>\n",
       "    </tr>\n",
       "    <tr>\n",
       "      <th>2</th>\n",
       "      <td>1.0</td>\n",
       "      <td>True</td>\n",
       "      <td>02 17, 2014</td>\n",
       "      <td>A1BJHRQDYVAY2J</td>\n",
       "      <td>0077613252</td>\n",
       "      <td>IF YOU ARE TAKING THIS CLASS DON\"T WASTE YOUR ...</td>\n",
       "      <td>ARE YOU KIDING ME?</td>\n",
       "      <td>7</td>\n",
       "      <td>Connect Personal Health with LearnSmart 1 Seme...</td>\n",
       "      <td>McGraw-Hill Humanities/Social Sciences/Languages</td>\n",
       "      <td>15,675inSoftware(</td>\n",
       "      <td>Software</td>\n",
       "      <td>[The most reliable and widely used personal he...</td>\n",
       "      <td>NaN</td>\n",
       "      <td>NaN</td>\n",
       "    </tr>\n",
       "    <tr>\n",
       "      <th>3</th>\n",
       "      <td>3.0</td>\n",
       "      <td>True</td>\n",
       "      <td>02 17, 2014</td>\n",
       "      <td>APRDVZ6QBIQXT</td>\n",
       "      <td>0077613252</td>\n",
       "      <td>This book was missing pages!!! Important pages...</td>\n",
       "      <td>missing pages!!</td>\n",
       "      <td>3</td>\n",
       "      <td>Connect Personal Health with LearnSmart 1 Seme...</td>\n",
       "      <td>McGraw-Hill Humanities/Social Sciences/Languages</td>\n",
       "      <td>15,675inSoftware(</td>\n",
       "      <td>Software</td>\n",
       "      <td>[The most reliable and widely used personal he...</td>\n",
       "      <td>NaN</td>\n",
       "      <td>NaN</td>\n",
       "    </tr>\n",
       "    <tr>\n",
       "      <th>4</th>\n",
       "      <td>5.0</td>\n",
       "      <td>True</td>\n",
       "      <td>12 20, 2015</td>\n",
       "      <td>AG0LTM6JLS4TP</td>\n",
       "      <td>0077613252</td>\n",
       "      <td>Very informative. Easy for studying.</td>\n",
       "      <td>Easy for studying</td>\n",
       "      <td>-</td>\n",
       "      <td>Connect Personal Health with LearnSmart 1 Seme...</td>\n",
       "      <td>McGraw-Hill Humanities/Social Sciences/Languages</td>\n",
       "      <td>15,675inSoftware(</td>\n",
       "      <td>Software</td>\n",
       "      <td>[The most reliable and widely used personal he...</td>\n",
       "      <td>NaN</td>\n",
       "      <td>NaN</td>\n",
       "    </tr>\n",
       "    <tr>\n",
       "      <th>5</th>\n",
       "      <td>4.0</td>\n",
       "      <td>True</td>\n",
       "      <td>08 3, 2015</td>\n",
       "      <td>A3F6HEY4QN62SO</td>\n",
       "      <td>0077613252</td>\n",
       "      <td>was for class. came in great shape</td>\n",
       "      <td>came in great</td>\n",
       "      <td>-</td>\n",
       "      <td>Connect Personal Health with LearnSmart 1 Seme...</td>\n",
       "      <td>McGraw-Hill Humanities/Social Sciences/Languages</td>\n",
       "      <td>15,675inSoftware(</td>\n",
       "      <td>Software</td>\n",
       "      <td>[The most reliable and widely used personal he...</td>\n",
       "      <td>NaN</td>\n",
       "      <td>NaN</td>\n",
       "    </tr>\n",
       "    <tr>\n",
       "      <th>6</th>\n",
       "      <td>4.0</td>\n",
       "      <td>True</td>\n",
       "      <td>07 19, 2015</td>\n",
       "      <td>A1BAHI123SAHOU</td>\n",
       "      <td>0077613252</td>\n",
       "      <td>Fast shipping, products as described</td>\n",
       "      <td>Four Stars</td>\n",
       "      <td>-</td>\n",
       "      <td>Connect Personal Health with LearnSmart 1 Seme...</td>\n",
       "      <td>McGraw-Hill Humanities/Social Sciences/Languages</td>\n",
       "      <td>15,675inSoftware(</td>\n",
       "      <td>Software</td>\n",
       "      <td>[The most reliable and widely used personal he...</td>\n",
       "      <td>NaN</td>\n",
       "      <td>NaN</td>\n",
       "    </tr>\n",
       "    <tr>\n",
       "      <th>7</th>\n",
       "      <td>3.0</td>\n",
       "      <td>False</td>\n",
       "      <td>06 11, 2015</td>\n",
       "      <td>A3IS0YX0A8NCJL</td>\n",
       "      <td>0077613252</td>\n",
       "      <td>I wouldn't waste money on the book. I bought t...</td>\n",
       "      <td>I wouldn't waste money on the book</td>\n",
       "      <td>-</td>\n",
       "      <td>Connect Personal Health with LearnSmart 1 Seme...</td>\n",
       "      <td>McGraw-Hill Humanities/Social Sciences/Languages</td>\n",
       "      <td>15,675inSoftware(</td>\n",
       "      <td>Software</td>\n",
       "      <td>[The most reliable and widely used personal he...</td>\n",
       "      <td>NaN</td>\n",
       "      <td>NaN</td>\n",
       "    </tr>\n",
       "    <tr>\n",
       "      <th>8</th>\n",
       "      <td>4.0</td>\n",
       "      <td>True</td>\n",
       "      <td>03 12, 2015</td>\n",
       "      <td>A1E05DJ5HLMTEB</td>\n",
       "      <td>0077613252</td>\n",
       "      <td>Passed the class.</td>\n",
       "      <td>Four Stars</td>\n",
       "      <td>-</td>\n",
       "      <td>Connect Personal Health with LearnSmart 1 Seme...</td>\n",
       "      <td>McGraw-Hill Humanities/Social Sciences/Languages</td>\n",
       "      <td>15,675inSoftware(</td>\n",
       "      <td>Software</td>\n",
       "      <td>[The most reliable and widely used personal he...</td>\n",
       "      <td>NaN</td>\n",
       "      <td>NaN</td>\n",
       "    </tr>\n",
       "    <tr>\n",
       "      <th>9</th>\n",
       "      <td>5.0</td>\n",
       "      <td>False</td>\n",
       "      <td>09 3, 2014</td>\n",
       "      <td>A3LBRDP2WADIR3</td>\n",
       "      <td>0077613252</td>\n",
       "      <td>great time shippn</td>\n",
       "      <td>Five Stars</td>\n",
       "      <td>-</td>\n",
       "      <td>Connect Personal Health with LearnSmart 1 Seme...</td>\n",
       "      <td>McGraw-Hill Humanities/Social Sciences/Languages</td>\n",
       "      <td>15,675inSoftware(</td>\n",
       "      <td>Software</td>\n",
       "      <td>[The most reliable and widely used personal he...</td>\n",
       "      <td>NaN</td>\n",
       "      <td>NaN</td>\n",
       "    </tr>\n",
       "    <tr>\n",
       "      <th>10</th>\n",
       "      <td>5.0</td>\n",
       "      <td>True</td>\n",
       "      <td>08 31, 2014</td>\n",
       "      <td>A2804QM06RT7PS</td>\n",
       "      <td>0077613252</td>\n",
       "      <td>Awesome! Ty</td>\n",
       "      <td>Five Stars</td>\n",
       "      <td>-</td>\n",
       "      <td>Connect Personal Health with LearnSmart 1 Seme...</td>\n",
       "      <td>McGraw-Hill Humanities/Social Sciences/Languages</td>\n",
       "      <td>15,675inSoftware(</td>\n",
       "      <td>Software</td>\n",
       "      <td>[The most reliable and widely used personal he...</td>\n",
       "      <td>NaN</td>\n",
       "      <td>NaN</td>\n",
       "    </tr>\n",
       "    <tr>\n",
       "      <th>11</th>\n",
       "      <td>1.0</td>\n",
       "      <td>False</td>\n",
       "      <td>08 27, 2014</td>\n",
       "      <td>A2P1ZWXS5QYW8C</td>\n",
       "      <td>0077613252</td>\n",
       "      <td>Well, make sure you know that this is ONLY an ...</td>\n",
       "      <td>ACCESS CARD ONLY!</td>\n",
       "      <td>2</td>\n",
       "      <td>Connect Personal Health with LearnSmart 1 Seme...</td>\n",
       "      <td>McGraw-Hill Humanities/Social Sciences/Languages</td>\n",
       "      <td>15,675inSoftware(</td>\n",
       "      <td>Software</td>\n",
       "      <td>[The most reliable and widely used personal he...</td>\n",
       "      <td>NaN</td>\n",
       "      <td>NaN</td>\n",
       "    </tr>\n",
       "    <tr>\n",
       "      <th>12</th>\n",
       "      <td>2.0</td>\n",
       "      <td>True</td>\n",
       "      <td>08 11, 2014</td>\n",
       "      <td>A377Q6BO2I3IEX</td>\n",
       "      <td>0077613252</td>\n",
       "      <td>I thought I was getting the book with the acce...</td>\n",
       "      <td>Two Stars</td>\n",
       "      <td>-</td>\n",
       "      <td>Connect Personal Health with LearnSmart 1 Seme...</td>\n",
       "      <td>McGraw-Hill Humanities/Social Sciences/Languages</td>\n",
       "      <td>15,675inSoftware(</td>\n",
       "      <td>Software</td>\n",
       "      <td>[The most reliable and widely used personal he...</td>\n",
       "      <td>NaN</td>\n",
       "      <td>NaN</td>\n",
       "    </tr>\n",
       "    <tr>\n",
       "      <th>13</th>\n",
       "      <td>1.0</td>\n",
       "      <td>True</td>\n",
       "      <td>06 23, 2014</td>\n",
       "      <td>A2GU69HD5SFEDY</td>\n",
       "      <td>0077613252</td>\n",
       "      <td>I have had no problems with this book up until...</td>\n",
       "      <td>Missing pages/chapters</td>\n",
       "      <td>3</td>\n",
       "      <td>Connect Personal Health with LearnSmart 1 Seme...</td>\n",
       "      <td>McGraw-Hill Humanities/Social Sciences/Languages</td>\n",
       "      <td>15,675inSoftware(</td>\n",
       "      <td>Software</td>\n",
       "      <td>[The most reliable and widely used personal he...</td>\n",
       "      <td>NaN</td>\n",
       "      <td>NaN</td>\n",
       "    </tr>\n",
       "    <tr>\n",
       "      <th>14</th>\n",
       "      <td>5.0</td>\n",
       "      <td>False</td>\n",
       "      <td>10 14, 2013</td>\n",
       "      <td>A2JZTTBSLS1QXV</td>\n",
       "      <td>0077775473</td>\n",
       "      <td>I have used LearnSmart and can officially say ...</td>\n",
       "      <td>Best study product out there!</td>\n",
       "      <td>-</td>\n",
       "      <td>LearnSmart Access Card for Experience Psychology</td>\n",
       "      <td>McGraw-Hill Education</td>\n",
       "      <td>9,130inSoftware(</td>\n",
       "      <td>Software</td>\n",
       "      <td>[LearnSmart This adaptive diagnostic tool help...</td>\n",
       "      <td>NaN</td>\n",
       "      <td>NaN</td>\n",
       "    </tr>\n",
       "    <tr>\n",
       "      <th>15</th>\n",
       "      <td>1.0</td>\n",
       "      <td>True</td>\n",
       "      <td>01 16, 2016</td>\n",
       "      <td>A34PAOSJSV8L0J</td>\n",
       "      <td>0077775473</td>\n",
       "      <td>Code did not work for my class though it was t...</td>\n",
       "      <td>BEWARE, They are looking of struggling college...</td>\n",
       "      <td>-</td>\n",
       "      <td>LearnSmart Access Card for Experience Psychology</td>\n",
       "      <td>McGraw-Hill Education</td>\n",
       "      <td>9,130inSoftware(</td>\n",
       "      <td>Software</td>\n",
       "      <td>[LearnSmart This adaptive diagnostic tool help...</td>\n",
       "      <td>NaN</td>\n",
       "      <td>NaN</td>\n",
       "    </tr>\n",
       "    <tr>\n",
       "      <th>16</th>\n",
       "      <td>1.0</td>\n",
       "      <td>True</td>\n",
       "      <td>04 21, 2015</td>\n",
       "      <td>A1Z70AGLIJAZDA</td>\n",
       "      <td>0077775473</td>\n",
       "      <td>Had problems as well with getting this card to...</td>\n",
       "      <td>Another Unhappy Buyer</td>\n",
       "      <td>-</td>\n",
       "      <td>LearnSmart Access Card for Experience Psychology</td>\n",
       "      <td>McGraw-Hill Education</td>\n",
       "      <td>9,130inSoftware(</td>\n",
       "      <td>Software</td>\n",
       "      <td>[LearnSmart This adaptive diagnostic tool help...</td>\n",
       "      <td>NaN</td>\n",
       "      <td>NaN</td>\n",
       "    </tr>\n",
       "    <tr>\n",
       "      <th>17</th>\n",
       "      <td>1.0</td>\n",
       "      <td>True</td>\n",
       "      <td>03 13, 2015</td>\n",
       "      <td>A3MKWTZBDIUWTO</td>\n",
       "      <td>0077775473</td>\n",
       "      <td>This card wouldn't work for me because my scho...</td>\n",
       "      <td>This card wouldn't work for me because my scho...</td>\n",
       "      <td>-</td>\n",
       "      <td>LearnSmart Access Card for Experience Psychology</td>\n",
       "      <td>McGraw-Hill Education</td>\n",
       "      <td>9,130inSoftware(</td>\n",
       "      <td>Software</td>\n",
       "      <td>[LearnSmart This adaptive diagnostic tool help...</td>\n",
       "      <td>NaN</td>\n",
       "      <td>NaN</td>\n",
       "    </tr>\n",
       "    <tr>\n",
       "      <th>18</th>\n",
       "      <td>2.0</td>\n",
       "      <td>True</td>\n",
       "      <td>01 3, 2015</td>\n",
       "      <td>AJAZVUY4VKN7R</td>\n",
       "      <td>0077775473</td>\n",
       "      <td>I was not able to access it. I returned it. Sorry</td>\n",
       "      <td>Two Stars</td>\n",
       "      <td>-</td>\n",
       "      <td>LearnSmart Access Card for Experience Psychology</td>\n",
       "      <td>McGraw-Hill Education</td>\n",
       "      <td>9,130inSoftware(</td>\n",
       "      <td>Software</td>\n",
       "      <td>[LearnSmart This adaptive diagnostic tool help...</td>\n",
       "      <td>NaN</td>\n",
       "      <td>NaN</td>\n",
       "    </tr>\n",
       "    <tr>\n",
       "      <th>19</th>\n",
       "      <td>1.0</td>\n",
       "      <td>True</td>\n",
       "      <td>12 9, 2014</td>\n",
       "      <td>A219WVE2F0LK4K</td>\n",
       "      <td>0077775473</td>\n",
       "      <td>code did not work and was nothing we could do ...</td>\n",
       "      <td>One Star</td>\n",
       "      <td>2</td>\n",
       "      <td>LearnSmart Access Card for Experience Psychology</td>\n",
       "      <td>McGraw-Hill Education</td>\n",
       "      <td>9,130inSoftware(</td>\n",
       "      <td>Software</td>\n",
       "      <td>[LearnSmart This adaptive diagnostic tool help...</td>\n",
       "      <td>NaN</td>\n",
       "      <td>NaN</td>\n",
       "    </tr>\n",
       "  </tbody>\n",
       "</table>\n",
       "</div>"
      ],
      "text/plain": [
       "    overall  verified   reviewTime      reviewerID        asin  \\\n",
       "0       4.0      True  03 11, 2014  A240ORQ2LF9LUI  0077613252   \n",
       "1       4.0      True  02 23, 2014  A1YCCU0YRLS0FE  0077613252   \n",
       "2       1.0      True  02 17, 2014  A1BJHRQDYVAY2J  0077613252   \n",
       "3       3.0      True  02 17, 2014   APRDVZ6QBIQXT  0077613252   \n",
       "4       5.0      True  12 20, 2015   AG0LTM6JLS4TP  0077613252   \n",
       "5       4.0      True   08 3, 2015  A3F6HEY4QN62SO  0077613252   \n",
       "6       4.0      True  07 19, 2015  A1BAHI123SAHOU  0077613252   \n",
       "7       3.0     False  06 11, 2015  A3IS0YX0A8NCJL  0077613252   \n",
       "8       4.0      True  03 12, 2015  A1E05DJ5HLMTEB  0077613252   \n",
       "9       5.0     False   09 3, 2014  A3LBRDP2WADIR3  0077613252   \n",
       "10      5.0      True  08 31, 2014  A2804QM06RT7PS  0077613252   \n",
       "11      1.0     False  08 27, 2014  A2P1ZWXS5QYW8C  0077613252   \n",
       "12      2.0      True  08 11, 2014  A377Q6BO2I3IEX  0077613252   \n",
       "13      1.0      True  06 23, 2014  A2GU69HD5SFEDY  0077613252   \n",
       "14      5.0     False  10 14, 2013  A2JZTTBSLS1QXV  0077775473   \n",
       "15      1.0      True  01 16, 2016  A34PAOSJSV8L0J  0077775473   \n",
       "16      1.0      True  04 21, 2015  A1Z70AGLIJAZDA  0077775473   \n",
       "17      1.0      True  03 13, 2015  A3MKWTZBDIUWTO  0077775473   \n",
       "18      2.0      True   01 3, 2015   AJAZVUY4VKN7R  0077775473   \n",
       "19      1.0      True   12 9, 2014  A219WVE2F0LK4K  0077775473   \n",
       "\n",
       "                                           reviewText  \\\n",
       "0   The materials arrived early and were in excell...   \n",
       "1   I am really enjoying this book with the worksh...   \n",
       "2   IF YOU ARE TAKING THIS CLASS DON\"T WASTE YOUR ...   \n",
       "3   This book was missing pages!!! Important pages...   \n",
       "4                Very informative. Easy for studying.   \n",
       "5                  was for class. came in great shape   \n",
       "6                Fast shipping, products as described   \n",
       "7   I wouldn't waste money on the book. I bought t...   \n",
       "8                                   Passed the class.   \n",
       "9                                   great time shippn   \n",
       "10                                        Awesome! Ty   \n",
       "11  Well, make sure you know that this is ONLY an ...   \n",
       "12  I thought I was getting the book with the acce...   \n",
       "13  I have had no problems with this book up until...   \n",
       "14  I have used LearnSmart and can officially say ...   \n",
       "15  Code did not work for my class though it was t...   \n",
       "16  Had problems as well with getting this card to...   \n",
       "17  This card wouldn't work for me because my scho...   \n",
       "18  I was not able to access it. I returned it. Sorry   \n",
       "19  code did not work and was nothing we could do ...   \n",
       "\n",
       "                                              summary vote  \\\n",
       "0                                      Material Great    -   \n",
       "1                                              Health    -   \n",
       "2                                  ARE YOU KIDING ME?    7   \n",
       "3                                     missing pages!!    3   \n",
       "4                                   Easy for studying    -   \n",
       "5                                       came in great    -   \n",
       "6                                          Four Stars    -   \n",
       "7                  I wouldn't waste money on the book    -   \n",
       "8                                          Four Stars    -   \n",
       "9                                          Five Stars    -   \n",
       "10                                         Five Stars    -   \n",
       "11                                  ACCESS CARD ONLY!    2   \n",
       "12                                          Two Stars    -   \n",
       "13                             Missing pages/chapters    3   \n",
       "14                      Best study product out there!    -   \n",
       "15  BEWARE, They are looking of struggling college...    -   \n",
       "16                              Another Unhappy Buyer    -   \n",
       "17  This card wouldn't work for me because my scho...    -   \n",
       "18                                          Two Stars    -   \n",
       "19                                           One Star    2   \n",
       "\n",
       "                                                title  \\\n",
       "0   Connect Personal Health with LearnSmart 1 Seme...   \n",
       "1   Connect Personal Health with LearnSmart 1 Seme...   \n",
       "2   Connect Personal Health with LearnSmart 1 Seme...   \n",
       "3   Connect Personal Health with LearnSmart 1 Seme...   \n",
       "4   Connect Personal Health with LearnSmart 1 Seme...   \n",
       "5   Connect Personal Health with LearnSmart 1 Seme...   \n",
       "6   Connect Personal Health with LearnSmart 1 Seme...   \n",
       "7   Connect Personal Health with LearnSmart 1 Seme...   \n",
       "8   Connect Personal Health with LearnSmart 1 Seme...   \n",
       "9   Connect Personal Health with LearnSmart 1 Seme...   \n",
       "10  Connect Personal Health with LearnSmart 1 Seme...   \n",
       "11  Connect Personal Health with LearnSmart 1 Seme...   \n",
       "12  Connect Personal Health with LearnSmart 1 Seme...   \n",
       "13  Connect Personal Health with LearnSmart 1 Seme...   \n",
       "14   LearnSmart Access Card for Experience Psychology   \n",
       "15   LearnSmart Access Card for Experience Psychology   \n",
       "16   LearnSmart Access Card for Experience Psychology   \n",
       "17   LearnSmart Access Card for Experience Psychology   \n",
       "18   LearnSmart Access Card for Experience Psychology   \n",
       "19   LearnSmart Access Card for Experience Psychology   \n",
       "\n",
       "                                               brand               rank  \\\n",
       "0   McGraw-Hill Humanities/Social Sciences/Languages  15,675inSoftware(   \n",
       "1   McGraw-Hill Humanities/Social Sciences/Languages  15,675inSoftware(   \n",
       "2   McGraw-Hill Humanities/Social Sciences/Languages  15,675inSoftware(   \n",
       "3   McGraw-Hill Humanities/Social Sciences/Languages  15,675inSoftware(   \n",
       "4   McGraw-Hill Humanities/Social Sciences/Languages  15,675inSoftware(   \n",
       "5   McGraw-Hill Humanities/Social Sciences/Languages  15,675inSoftware(   \n",
       "6   McGraw-Hill Humanities/Social Sciences/Languages  15,675inSoftware(   \n",
       "7   McGraw-Hill Humanities/Social Sciences/Languages  15,675inSoftware(   \n",
       "8   McGraw-Hill Humanities/Social Sciences/Languages  15,675inSoftware(   \n",
       "9   McGraw-Hill Humanities/Social Sciences/Languages  15,675inSoftware(   \n",
       "10  McGraw-Hill Humanities/Social Sciences/Languages  15,675inSoftware(   \n",
       "11  McGraw-Hill Humanities/Social Sciences/Languages  15,675inSoftware(   \n",
       "12  McGraw-Hill Humanities/Social Sciences/Languages  15,675inSoftware(   \n",
       "13  McGraw-Hill Humanities/Social Sciences/Languages  15,675inSoftware(   \n",
       "14                             McGraw-Hill Education   9,130inSoftware(   \n",
       "15                             McGraw-Hill Education   9,130inSoftware(   \n",
       "16                             McGraw-Hill Education   9,130inSoftware(   \n",
       "17                             McGraw-Hill Education   9,130inSoftware(   \n",
       "18                             McGraw-Hill Education   9,130inSoftware(   \n",
       "19                             McGraw-Hill Education   9,130inSoftware(   \n",
       "\n",
       "    main_cat                                        description feature  \\\n",
       "0   Software  [The most reliable and widely used personal he...     NaN   \n",
       "1   Software  [The most reliable and widely used personal he...     NaN   \n",
       "2   Software  [The most reliable and widely used personal he...     NaN   \n",
       "3   Software  [The most reliable and widely used personal he...     NaN   \n",
       "4   Software  [The most reliable and widely used personal he...     NaN   \n",
       "5   Software  [The most reliable and widely used personal he...     NaN   \n",
       "6   Software  [The most reliable and widely used personal he...     NaN   \n",
       "7   Software  [The most reliable and widely used personal he...     NaN   \n",
       "8   Software  [The most reliable and widely used personal he...     NaN   \n",
       "9   Software  [The most reliable and widely used personal he...     NaN   \n",
       "10  Software  [The most reliable and widely used personal he...     NaN   \n",
       "11  Software  [The most reliable and widely used personal he...     NaN   \n",
       "12  Software  [The most reliable and widely used personal he...     NaN   \n",
       "13  Software  [The most reliable and widely used personal he...     NaN   \n",
       "14  Software  [LearnSmart This adaptive diagnostic tool help...     NaN   \n",
       "15  Software  [LearnSmart This adaptive diagnostic tool help...     NaN   \n",
       "16  Software  [LearnSmart This adaptive diagnostic tool help...     NaN   \n",
       "17  Software  [LearnSmart This adaptive diagnostic tool help...     NaN   \n",
       "18  Software  [LearnSmart This adaptive diagnostic tool help...     NaN   \n",
       "19  Software  [LearnSmart This adaptive diagnostic tool help...     NaN   \n",
       "\n",
       "   category  \n",
       "0       NaN  \n",
       "1       NaN  \n",
       "2       NaN  \n",
       "3       NaN  \n",
       "4       NaN  \n",
       "5       NaN  \n",
       "6       NaN  \n",
       "7       NaN  \n",
       "8       NaN  \n",
       "9       NaN  \n",
       "10      NaN  \n",
       "11      NaN  \n",
       "12      NaN  \n",
       "13      NaN  \n",
       "14      NaN  \n",
       "15      NaN  \n",
       "16      NaN  \n",
       "17      NaN  \n",
       "18      NaN  \n",
       "19      NaN  "
      ]
     },
     "execution_count": 15,
     "metadata": {},
     "output_type": "execute_result"
    }
   ],
   "source": [
    "product_dataset.head(n=20)"
   ]
  },
  {
   "cell_type": "markdown",
   "metadata": {},
   "source": [
    "## Data Analysis"
   ]
  },
  {
   "cell_type": "markdown",
   "metadata": {},
   "source": [
    "#### Distribution of overall product ratings"
   ]
  },
  {
   "cell_type": "code",
   "execution_count": 16,
   "metadata": {},
   "outputs": [],
   "source": [
    "def overall_rating(data):\n",
    "    \n",
    "    ratings=data['overall']\n",
    "    \n",
    "    rating_dict={}\n",
    "    for i in range(len(ratings)):\n",
    "        if ratings[i] not in rating_dict:\n",
    "            rating_dict[ratings[i]]=1\n",
    "        else:\n",
    "            rating_dict[ratings[i]] +=1\n",
    "            \n",
    "    rating_dict={k: v for k, v in sorted(rating_dict.items(), key=lambda item: item[0])}\n",
    "            \n",
    "    return rating_dict"
   ]
  },
  {
   "cell_type": "code",
   "execution_count": 17,
   "metadata": {},
   "outputs": [],
   "source": [
    "product_rating=overall_rating(product_dataset)"
   ]
  },
  {
   "cell_type": "code",
   "execution_count": 18,
   "metadata": {},
   "outputs": [],
   "source": [
    "def plot_figure(data,title,xlabel,ylabel):\n",
    "    fig, ax = plt.subplots()\n",
    "    plt.title(title)\n",
    "\n",
    "    y = list(data.values())\n",
    "    x = list(data.keys())\n",
    "   \n",
    "    ax.bar(x, y,width=0.6,color=['blue','orange','green','red','purple'])\n",
    "    plt.xlabel(xlabel)\n",
    "    plt.ylabel(ylabel)\n",
    "    plt.show()"
   ]
  },
  {
   "cell_type": "code",
   "execution_count": 19,
   "metadata": {},
   "outputs": [
    {
     "data": {
      "image/png": "[encoded data removed]",
      "text/plain": [
       "<Figure size 576x396 with 1 Axes>"
      ]
     },
     "metadata": {},
     "output_type": "display_data"
    }
   ],
   "source": [
    "plot_figure(product_rating,'Overall Product Rating','Rating','Number of Products')"
   ]
  },
  {
   "cell_type": "markdown",
   "metadata": {},
   "source": [
    "#### Trend of numbers of ratings across years"
   ]
  },
  {
   "cell_type": "code",
   "execution_count": 20,
   "metadata": {},
   "outputs": [],
   "source": [
    "def year_analysis(data):\n",
    "    \n",
    "    date=[]\n",
    "    for i in range(len(data)):\n",
    "        temp = data['reviewTime'][i].split(', ')[-1]\n",
    "        date.append(temp)\n",
    "        \n",
    "    time_dict={}\n",
    "    for i in range(len(date)):\n",
    "        if int(date[i]) not in time_dict:\n",
    "            time_dict[int(date[i])] = 1\n",
    "        else:\n",
    "            time_dict[int(date[i])] += 1\n",
    "            \n",
    "    time_dict={k: v for k, v in sorted(time_dict.items(), key=lambda item: item[0])}\n",
    "            \n",
    "    return time_dict"
   ]
  },
  {
   "cell_type": "code",
   "execution_count": 21,
   "metadata": {},
   "outputs": [],
   "source": [
    "year_product=year_analysis(product_dataset)"
   ]
  },
  {
   "cell_type": "code",
   "execution_count": 22,
   "metadata": {},
   "outputs": [
    {
     "name": "stdout",
     "output_type": "stream",
     "text": [
      "{1999: 130, 2000: 1159, 2001: 3366, 2002: 5246, 2003: 6619, 2004: 6682, 2005: 8105, 2006: 8265, 2007: 12939, 2008: 16343, 2009: 18325, 2010: 12499, 2011: 7065, 2012: 5609, 2013: 10015, 2014: 9660, 2015: 8120, 2016: 5132, 2017: 3246, 2018: 1475}\n"
     ]
    }
   ],
   "source": [
    "print(year_product)"
   ]
  },
  {
   "cell_type": "code",
   "execution_count": 23,
   "metadata": {},
   "outputs": [],
   "source": [
    "def plot_figure(data,title,xlabel,ylabel):\n",
    "    plt.title(title)\n",
    "\n",
    "    y = list(data.values())\n",
    "    x = list(data.keys())\n",
    "    \n",
    "    plt.xlim([1996,2019])\n",
    "   \n",
    "    plt.scatter(x,y,marker='+',c='red')\n",
    "    plt.plot(x,y,c='red')\n",
    "    plt.xlabel(xlabel)\n",
    "    plt.ylabel(ylabel)\n",
    "    plt.show()"
   ]
  },
  {
   "cell_type": "code",
   "execution_count": 24,
   "metadata": {},
   "outputs": [
    {
     "data": {
      "image/png": "[encoded data removed]",
      "text/plain": [
       "<Figure size 576x396 with 1 Axes>"
      ]
     },
     "metadata": {},
     "output_type": "display_data"
    }
   ],
   "source": [
    "plot_figure(year_product,'Year across rating', 'Year','Number of Ratings')"
   ]
  },
  {
   "cell_type": "markdown",
   "metadata": {},
   "source": [
    "#### Distribution of rating per months"
   ]
  },
  {
   "cell_type": "code",
   "execution_count": 25,
   "metadata": {},
   "outputs": [],
   "source": [
    "def month_analysis(data):\n",
    "    \n",
    "    date=[]\n",
    "    for i in range(len(data)):\n",
    "        temp = (data['reviewTime'][i].split(', ')[0]).split()[0]\n",
    "        date.append(temp)\n",
    "        \n",
    "    time_dict={}\n",
    "    for i in range(len(date)):\n",
    "        time_dict[int(date[i])] = 1\n",
    "            \n",
    "    time_dict={k: v for k, v in sorted(time_dict.items(), key=lambda item: item[0])}\n",
    "    \n",
    "    list_=[]\n",
    "    for key in list(time_dict.keys()):\n",
    "        temp={}\n",
    "        temp[key]=time_dict[key]\n",
    "        list_.append(temp)\n",
    "        \n",
    "    framed_data=pd.DataFrame(list_)\n",
    "    \n",
    "    return framed_data"
   ]
  },
  {
   "cell_type": "code",
   "execution_count": 26,
   "metadata": {},
   "outputs": [],
   "source": [
    "framed_data=month_analysis(product_dataset)"
   ]
  },
  {
   "cell_type": "code",
   "execution_count": 27,
   "metadata": {},
   "outputs": [
    {
     "data": {
      "text/html": [
       "<div>\n",
       "<style scoped>\n",
       "    .dataframe tbody tr th:only-of-type {\n",
       "        vertical-align: middle;\n",
       "    }\n",
       "\n",
       "    .dataframe tbody tr th {\n",
       "        vertical-align: top;\n",
       "    }\n",
       "\n",
       "    .dataframe thead th {\n",
       "        text-align: right;\n",
       "    }\n",
       "</style>\n",
       "<table border=\"1\" class=\"dataframe\">\n",
       "  <thead>\n",
       "    <tr style=\"text-align: right;\">\n",
       "      <th></th>\n",
       "      <th>1</th>\n",
       "      <th>2</th>\n",
       "      <th>3</th>\n",
       "      <th>4</th>\n",
       "      <th>5</th>\n",
       "      <th>6</th>\n",
       "      <th>7</th>\n",
       "      <th>8</th>\n",
       "      <th>9</th>\n",
       "      <th>10</th>\n",
       "      <th>11</th>\n",
       "      <th>12</th>\n",
       "    </tr>\n",
       "  </thead>\n",
       "  <tbody>\n",
       "    <tr>\n",
       "      <th>0</th>\n",
       "      <td>1.0</td>\n",
       "      <td>NaN</td>\n",
       "      <td>NaN</td>\n",
       "      <td>NaN</td>\n",
       "      <td>NaN</td>\n",
       "      <td>NaN</td>\n",
       "      <td>NaN</td>\n",
       "      <td>NaN</td>\n",
       "      <td>NaN</td>\n",
       "      <td>NaN</td>\n",
       "      <td>NaN</td>\n",
       "      <td>NaN</td>\n",
       "    </tr>\n",
       "    <tr>\n",
       "      <th>1</th>\n",
       "      <td>NaN</td>\n",
       "      <td>1.0</td>\n",
       "      <td>NaN</td>\n",
       "      <td>NaN</td>\n",
       "      <td>NaN</td>\n",
       "      <td>NaN</td>\n",
       "      <td>NaN</td>\n",
       "      <td>NaN</td>\n",
       "      <td>NaN</td>\n",
       "      <td>NaN</td>\n",
       "      <td>NaN</td>\n",
       "      <td>NaN</td>\n",
       "    </tr>\n",
       "    <tr>\n",
       "      <th>2</th>\n",
       "      <td>NaN</td>\n",
       "      <td>NaN</td>\n",
       "      <td>1.0</td>\n",
       "      <td>NaN</td>\n",
       "      <td>NaN</td>\n",
       "      <td>NaN</td>\n",
       "      <td>NaN</td>\n",
       "      <td>NaN</td>\n",
       "      <td>NaN</td>\n",
       "      <td>NaN</td>\n",
       "      <td>NaN</td>\n",
       "      <td>NaN</td>\n",
       "    </tr>\n",
       "    <tr>\n",
       "      <th>3</th>\n",
       "      <td>NaN</td>\n",
       "      <td>NaN</td>\n",
       "      <td>NaN</td>\n",
       "      <td>1.0</td>\n",
       "      <td>NaN</td>\n",
       "      <td>NaN</td>\n",
       "      <td>NaN</td>\n",
       "      <td>NaN</td>\n",
       "      <td>NaN</td>\n",
       "      <td>NaN</td>\n",
       "      <td>NaN</td>\n",
       "      <td>NaN</td>\n",
       "    </tr>\n",
       "    <tr>\n",
       "      <th>4</th>\n",
       "      <td>NaN</td>\n",
       "      <td>NaN</td>\n",
       "      <td>NaN</td>\n",
       "      <td>NaN</td>\n",
       "      <td>1.0</td>\n",
       "      <td>NaN</td>\n",
       "      <td>NaN</td>\n",
       "      <td>NaN</td>\n",
       "      <td>NaN</td>\n",
       "      <td>NaN</td>\n",
       "      <td>NaN</td>\n",
       "      <td>NaN</td>\n",
       "    </tr>\n",
       "  </tbody>\n",
       "</table>\n",
       "</div>"
      ],
      "text/plain": [
       "    1    2    3    4    5   6   7   8   9   10  11  12\n",
       "0  1.0  NaN  NaN  NaN  NaN NaN NaN NaN NaN NaN NaN NaN\n",
       "1  NaN  1.0  NaN  NaN  NaN NaN NaN NaN NaN NaN NaN NaN\n",
       "2  NaN  NaN  1.0  NaN  NaN NaN NaN NaN NaN NaN NaN NaN\n",
       "3  NaN  NaN  NaN  1.0  NaN NaN NaN NaN NaN NaN NaN NaN\n",
       "4  NaN  NaN  NaN  NaN  1.0 NaN NaN NaN NaN NaN NaN NaN"
      ]
     },
     "execution_count": 27,
     "metadata": {},
     "output_type": "execute_result"
    }
   ],
   "source": [
    "framed_data.head()"
   ]
  },
  {
   "cell_type": "code",
   "execution_count": 28,
   "metadata": {},
   "outputs": [
    {
     "data": {
      "text/plain": [
       "<matplotlib.axes._subplots.AxesSubplot at 0x140a1498848>"
      ]
     },
     "execution_count": 28,
     "metadata": {},
     "output_type": "execute_result"
    },
    {
     "data": {
      "image/png": "[encoded data removed]",
      "text/plain": [
       "<Figure size 576x396 with 1 Axes>"
      ]
     },
     "metadata": {},
     "output_type": "display_data"
    }
   ],
   "source": [
    "sns.boxplot(data=framed_data)"
   ]
  },
  {
   "cell_type": "code",
   "execution_count": null,
   "metadata": {},
   "outputs": [],
   "source": []
  },
  {
   "cell_type": "markdown",
   "metadata": {},
   "source": [
    "### User-Item Matrix"
   ]
  },
  {
   "cell_type": "code",
   "execution_count": 29,
   "metadata": {},
   "outputs": [],
   "source": [
    "user_unique=list(product_dataset['reviewerID'].unique())\n",
    "product_unique=list(product_dataset['asin'].unique())"
   ]
  },
  {
   "cell_type": "code",
   "execution_count": 30,
   "metadata": {},
   "outputs": [
    {
     "name": "stdout",
     "output_type": "stream",
     "text": [
      "(99852, 2541)\n"
     ]
    }
   ],
   "source": [
    "user_item=np.ndarray((len(user_unique),len(product_unique)),dtype='float16')\n",
    "\n",
    "print(user_item.shape)"
   ]
  },
  {
   "cell_type": "code",
   "execution_count": 31,
   "metadata": {},
   "outputs": [
    {
     "name": "stdout",
     "output_type": "stream",
     "text": [
      "Complete Status: 5000 | 150000 -----------> Time: 0 min 0.8491 sec\n",
      "Complete Status: 10000 | 150000 -----------> Time: 0 min 3.782 sec\n",
      "Complete Status: 15000 | 150000 -----------> Time: 0 min 3.148 sec\n",
      "Complete Status: 20000 | 150000 -----------> Time: 0 min 2.773 sec\n",
      "Complete Status: 25000 | 150000 -----------> Time: 0 min 3.93 sec\n",
      "Complete Status: 30000 | 150000 -----------> Time: 0 min 4.696 sec\n",
      "Complete Status: 35000 | 150000 -----------> Time: 0 min 5.666 sec\n",
      "Complete Status: 40000 | 150000 -----------> Time: 0 min 6.57 sec\n",
      "Complete Status: 45000 | 150000 -----------> Time: 0 min 7.519 sec\n",
      "Complete Status: 50000 | 150000 -----------> Time: 0 min 9.047 sec\n",
      "Complete Status: 55000 | 150000 -----------> Time: 0 min 9.264 sec\n",
      "Complete Status: 60000 | 150000 -----------> Time: 0 min 12.02 sec\n",
      "Complete Status: 65000 | 150000 -----------> Time: 0 min 11.99 sec\n",
      "Complete Status: 70000 | 150000 -----------> Time: 0 min 13.72 sec\n",
      "Complete Status: 75000 | 150000 -----------> Time: 0 min 15.22 sec\n",
      "Complete Status: 80000 | 150000 -----------> Time: 0 min 18.94 sec\n",
      "Complete Status: 85000 | 150000 -----------> Time: 0 min 19.39 sec\n",
      "Complete Status: 90000 | 150000 -----------> Time: 0 min 20.7 sec\n",
      "Complete Status: 95000 | 150000 -----------> Time: 0 min 24.53 sec\n",
      "Complete Status: 100000 | 150000 -----------> Time: 0 min 19.28 sec\n",
      "Complete Status: 105000 | 150000 -----------> Time: 0 min 24.93 sec\n",
      "Complete Status: 110000 | 150000 -----------> Time: 0 min 27.73 sec\n",
      "Complete Status: 115000 | 150000 -----------> Time: 0 min 26.91 sec\n",
      "Complete Status: 120000 | 150000 -----------> Time: 0 min 29.34 sec\n",
      "Complete Status: 125000 | 150000 -----------> Time: 0 min 29.27 sec\n",
      "Complete Status: 130000 | 150000 -----------> Time: 0 min 32.85 sec\n",
      "Complete Status: 135000 | 150000 -----------> Time: 0 min 33.03 sec\n",
      "Complete Status: 140000 | 150000 -----------> Time: 0 min 36.12 sec\n",
      "Complete Status: 145000 | 150000 -----------> Time: 0 min 38.89 sec\n",
      "Complete Status: 150000 | 150000 -----------> Time: 0 min 38.71 sec\n"
     ]
    }
   ],
   "source": [
    "all_user=list(product_dataset['reviewerID'])\n",
    "all_product=list(product_dataset['asin'])\n",
    "all_rating=list(product_dataset['overall'])\n",
    "\n",
    "start_time=time.time()\n",
    "for i in range(len(all_user)):\n",
    "    \n",
    "    product=all_product[i]\n",
    "    user=all_user[i]\n",
    "    rating=all_rating[i]\n",
    "    \n",
    "    product_index=product_unique.index(product)\n",
    "    user_index=user_unique.index(user)\n",
    "    \n",
    "    user_item[user_index][product_index]=rating\n",
    "    \n",
    "    if (i+1)%5000 == 0:\n",
    "        \n",
    "        finish_time=time.time()\n",
    "        minute=(finish_time-start_time)/60\n",
    "        sec=(finish_time-start_time)%60\n",
    "        \n",
    "        print(f'Complete Status: {i+1} | {len(all_user)} -----------> Time: {int(minute)} min {sec:{0}.{4}} sec')\n",
    "        \n",
    "        start_time=time.time()"
   ]
  },
  {
   "cell_type": "code",
   "execution_count": 32,
   "metadata": {},
   "outputs": [
    {
     "name": "stdout",
     "output_type": "stream",
     "text": [
      "\n",
      "User-Item Mtrix::: Unique reviewer:99852, Unique product:2541\n",
      "\n",
      "\n",
      "[[4. 0. 0. ... 0. 0. 0.]\n",
      " [4. 0. 0. ... 0. 0. 0.]\n",
      " [1. 0. 0. ... 0. 0. 0.]\n",
      " ...\n",
      " [0. 0. 0. ... 0. 0. 2.]\n",
      " [0. 0. 0. ... 0. 0. 3.]\n",
      " [0. 0. 0. ... 0. 0. 5.]]\n"
     ]
    }
   ],
   "source": [
    "print(f'\\nUser-Item Mtrix::: Unique reviewer:{user_item.shape[0]}, Unique product:{user_item.shape[1]}\\n\\n')\n",
    "print(user_item)"
   ]
  },
  {
   "cell_type": "code",
   "execution_count": 33,
   "metadata": {},
   "outputs": [],
   "source": [
    "# Sparseness of user-item matrix\n",
    "\n",
    "matrix_details = np.unique(user_item,return_counts=True)"
   ]
  },
  {
   "cell_type": "code",
   "execution_count": null,
   "metadata": {},
   "outputs": [],
   "source": []
  },
  {
   "cell_type": "code",
   "execution_count": 35,
   "metadata": {},
   "outputs": [
    {
     "data": {
      "text/markdown": [
       "**Number of Reviews**"
      ],
      "text/plain": [
       "<IPython.core.display.Markdown object>"
      ]
     },
     "metadata": {},
     "output_type": "display_data"
    },
    {
     "data": {
      "text/markdown": [
       "**Empty review   ----   0.0** : 253610110"
      ],
      "text/plain": [
       "<IPython.core.display.Markdown object>"
      ]
     },
     "metadata": {},
     "output_type": "display_data"
    },
    {
     "data": {
      "text/markdown": [
       "**1/5 review     ----   1.0** : 28263"
      ],
      "text/plain": [
       "<IPython.core.display.Markdown object>"
      ]
     },
     "metadata": {},
     "output_type": "display_data"
    },
    {
     "data": {
      "text/markdown": [
       "**2/5 review     ----   2.0** : 8755"
      ],
      "text/plain": [
       "<IPython.core.display.Markdown object>"
      ]
     },
     "metadata": {},
     "output_type": "display_data"
    },
    {
     "data": {
      "text/markdown": [
       "**3/5 review     ----   3.0** : 10412"
      ],
      "text/plain": [
       "<IPython.core.display.Markdown object>"
      ]
     },
     "metadata": {},
     "output_type": "display_data"
    },
    {
     "data": {
      "text/markdown": [
       "**4/5 review     ----   4.0** : 19426"
      ],
      "text/plain": [
       "<IPython.core.display.Markdown object>"
      ]
     },
     "metadata": {},
     "output_type": "display_data"
    }
   ],
   "source": [
    "printmd('**Number of Reviews**')\n",
    "\n",
    "printmd(f'**Empty review   ----   {matrix_details[0][0]}** : {matrix_details[1][0]}')\n",
    "printmd(f'**1/5 review     ----   {matrix_details[0][1]}** : {matrix_details[1][1]}')\n",
    "printmd(f'**2/5 review     ----   {matrix_details[0][2]}** : {matrix_details[1][2]}')\n",
    "printmd(f'**3/5 review     ----   {matrix_details[0][3]}** : {matrix_details[1][3]}')\n",
    "printmd(f'**4/5 review     ----   {matrix_details[0][4]}** : {matrix_details[1][4]}')"
   ]
  },
  {
   "cell_type": "code",
   "execution_count": 36,
   "metadata": {},
   "outputs": [
    {
     "data": {
      "text/markdown": [
       "**Sparseness of the User-Item matrix : 99.9551394308362**"
      ],
      "text/plain": [
       "<IPython.core.display.Markdown object>"
      ]
     },
     "metadata": {},
     "output_type": "display_data"
    }
   ],
   "source": [
    "sparseness = (matrix_details[1][0]/sum(matrix_details[1]))*100\n",
    "\n",
    "\n",
    "printmd(f'**Sparseness of the User-Item matrix : {sparseness}**')"
   ]
  },
  {
   "cell_type": "markdown",
   "metadata": {},
   "source": [
    "### Cosine Similarity"
   ]
  },
  {
   "cell_type": "code",
   "execution_count": 37,
   "metadata": {},
   "outputs": [],
   "source": [
    "##Similarity matrix\n",
    "\n",
    "sim_matrix = np.zeros((len(user_unique),len(user_unique)),dtype='float16')"
   ]
  },
  {
   "cell_type": "code",
   "execution_count": 38,
   "metadata": {},
   "outputs": [
    {
     "data": {
      "text/plain": [
       "(99852, 99852)"
      ]
     },
     "execution_count": 38,
     "metadata": {},
     "output_type": "execute_result"
    }
   ],
   "source": [
    "sim_matrix.shape"
   ]
  },
  {
   "cell_type": "code",
   "execution_count": 39,
   "metadata": {},
   "outputs": [],
   "source": [
    "def similarity(user1,user2):\n",
    "    \n",
    "    idx_1 = user_unique.index(user1)\n",
    "    idx_2 = user_unique.index(user2)\n",
    "    \n",
    "    #print(idx_1,idx_2)\n",
    "    \n",
    "    a = user_item[idx_1]\n",
    "    b = user_item[idx_2]\n",
    "    \n",
    "    norma = a - np.mean(a)\n",
    "    normb = b - np.mean(b)\n",
    "    \n",
    "    norm_a = np.square(norma)\n",
    "    norm_b = np.square(normb)\n",
    "    \n",
    "    return sum(norma*normb)/(math.sqrt(sum(norm_a))*math.sqrt(sum(norm_b)))"
   ]
  },
  {
   "cell_type": "code",
   "execution_count": 40,
   "metadata": {},
   "outputs": [
    {
     "name": "stdout",
     "output_type": "stream",
     "text": [
      "Complete Status: 1 | 99852\n"
     ]
    }
   ],
   "source": [
    "for i in range(sim_matrix.shape[0]):\n",
    "    \n",
    "    user1 = user_unique[i]\n",
    "    for j in range(sim_matrix.shape[0]):\n",
    "        \n",
    "        if i == j:\n",
    "            sim_matrix[i][j] = 1.0\n",
    "            continue\n",
    "        else:\n",
    "            user2 = user_unique[j]\n",
    "            sim = similarity(user1,user2)\n",
    "            sim_matrix[i][j] = sim\n",
    "        \n",
    "    if (i+1) == 1:\n",
    "        \n",
    "        print(f'Complete Status: {i+1} | {sim_matrix.shape[0]}')\n",
    "        break"
   ]
  },
  {
   "cell_type": "code",
   "execution_count": 41,
   "metadata": {},
   "outputs": [],
   "source": [
    "#ss=sorted(sim_matrix[0],reverse=True)"
   ]
  },
  {
   "cell_type": "code",
   "execution_count": 42,
   "metadata": {},
   "outputs": [],
   "source": [
    "ss=np.unique(sim_matrix[0],return_counts=True)"
   ]
  },
  {
   "cell_type": "code",
   "execution_count": 43,
   "metadata": {},
   "outputs": [
    {
     "name": "stdout",
     "output_type": "stream",
     "text": [
      "[(1.0, 0), (1.0, 1), (1.0, 2), (0.9995, 3), (0.9995, 4), (1.0, 5), (1.0, 6), (0.9995, 7), (1.0, 8), (0.9995, 9), (0.928, 10), (1.0, 11), (1.0, 12), (1.0, 13)]\n"
     ]
    }
   ],
   "source": [
    "best_sim=[]\n",
    "for i in range(len(sim_matrix[0])):\n",
    "    \n",
    "    if sim_matrix[0][i] > 0.9 and len(best_sim)<15:\n",
    "        best_sim.append((sim_matrix[0][i],i))\n",
    "        \n",
    "print(best_sim)"
   ]
  },
  {
   "cell_type": "code",
   "execution_count": 44,
   "metadata": {},
   "outputs": [],
   "source": [
    "products=[]\n",
    "for i in range(len(best_sim)):\n",
    "    match=best_sim[i]\n",
    "    \n",
    "    for j in range(len(user_item[i])):\n",
    "        \n",
    "        if user_item[i][j] > 0.0:\n",
    "            product=all_product[i]\n",
    "            products.append(product)"
   ]
  },
  {
   "cell_type": "code",
   "execution_count": 45,
   "metadata": {},
   "outputs": [
    {
     "data": {
      "text/plain": [
       "{'0077613252'}"
      ]
     },
     "execution_count": 45,
     "metadata": {},
     "output_type": "execute_result"
    }
   ],
   "source": [
    "set(products)"
   ]
  },
  {
   "cell_type": "code",
   "execution_count": null,
   "metadata": {},
   "outputs": [],
   "source": []
  }
 ],
 "metadata": {
  "kernelspec": {
   "display_name": "Python 3",
   "language": "python",
   "name": "python3"
  },
  "language_info": {
   "codemirror_mode": {
    "name": "ipython",
    "version": 3
   },
   "file_extension": ".py",
   "mimetype": "text/x-python",
   "name": "python",
   "nbconvert_exporter": "python",
   "pygments_lexer": "ipython3",
   "version": "3.7.4"
  }
 },
 "nbformat": 4,
 "nbformat_minor": 2
}
